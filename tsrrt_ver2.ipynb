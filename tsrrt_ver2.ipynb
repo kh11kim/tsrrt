{
 "cells": [
  {
   "cell_type": "code",
   "execution_count": 1,
   "id": "1dfc9812-f760-4f82-8fcc-b66279e43e5a",
   "metadata": {},
   "outputs": [
    {
     "name": "stderr",
     "output_type": "stream",
     "text": [
      "pybullet build time: Oct 11 2021 20:59:39\n"
     ]
    }
   ],
   "source": [
    "from tsrrt.kinematics import PandaKinematics\n",
    "from tsrrt.collision import PandaCollision\n",
    "import pybullet as p\n",
    "import pybullet_data\n",
    "import numpy as np\n",
    "from spatial_math_mini import *\n",
    "from tsrrt.data_structure import *\n",
    "from tsrrt.RRT import *"
   ]
  },
  {
   "cell_type": "code",
   "execution_count": 2,
   "id": "96f1a3e8-5216-4c06-9f0c-88996c762f9e",
   "metadata": {},
   "outputs": [],
   "source": [
    "def view_pose(pos, ori):\n",
    "    T = SE3.qtn_trans(ori, pos).T\n",
    "    length = 0.1\n",
    "    xaxis = np.array([length, 0, 0, 1])\n",
    "    yaxis = np.array([0, length, 0, 1])\n",
    "    zaxis = np.array([0, 0, length, 1])\n",
    "    T_axis = np.array([xaxis, yaxis, zaxis]).T\n",
    "    axes = T @ T_axis\n",
    "    orig = T[:3,-1]\n",
    "    xaxis = axes[:-1,0]\n",
    "    yaxis = axes[:-1,1]\n",
    "    zaxis = axes[:-1,2]\n",
    "    x = p.addUserDebugLine(orig,xaxis, lineColorRGB=[1,0,0], lineWidth=5)\n",
    "    y = p.addUserDebugLine(orig,yaxis, lineColorRGB=[0,1,0], lineWidth=5)\n",
    "    z = p.addUserDebugLine(orig,zaxis, lineColorRGB=[0,0,1], lineWidth=5)\n",
    "    pose_id = [x, y, z]\n",
    "    return pose_id\n",
    "\n",
    "def view_node(node):\n",
    "    view_pose(node.pos, [1,0,0,0])\n",
    "\n",
    "def clear(rng=None):\n",
    "    if rng is None:\n",
    "        rng = range(100)\n",
    "    for i in rng:\n",
    "        p.removeUserDebugItem(i)"
   ]
  },
  {
   "cell_type": "code",
   "execution_count": 3,
   "id": "1e5f3d1c-ec8d-4cb1-9f04-2c7f8843e946",
   "metadata": {},
   "outputs": [],
   "source": [
    "gui_uid = p.connect(p.GUI)\n",
    "rate = 240.\n",
    "p.setTimeStep(1/rate)\n",
    "p.resetSimulation() #init\n",
    "\n",
    "#\n",
    "p.setAdditionalSearchPath(pybullet_data.getDataPath()) # for loading plane\n",
    "plane_id = p.loadURDF(\"plane.urdf\") # load plane\n",
    "lego = p.loadURDF(\"lego/lego.urdf\")\n",
    "p.resetBasePositionAndOrientation(lego,[0.5,0.1,0.01], [0,0,0,1])\n",
    "\n",
    "checker = PandaCollision(p, gui_uid)"
   ]
  },
  {
   "cell_type": "markdown",
   "id": "790ced03-b3f0-4b2d-8823-07a3ab50253f",
   "metadata": {},
   "source": [
    "### C-space RRT"
   ]
  },
  {
   "cell_type": "code",
   "execution_count": 80,
   "id": "173bbef6-39cb-44fd-8cf3-9c71f04ce85c",
   "metadata": {},
   "outputs": [],
   "source": [
    "start = NodeJoint(checker._home_positions)\n",
    "goal = NodeJoint.random()\n",
    "# load rrt\n",
    "rrt = RRT(start, goal, checker)"
   ]
  },
  {
   "cell_type": "code",
   "execution_count": 81,
   "id": "676d9ffc-5e69-4a0c-8c32-24d66b1c88bc",
   "metadata": {},
   "outputs": [],
   "source": [
    "checker.set_joint_positions(goal.q)"
   ]
  },
  {
   "cell_type": "code",
   "execution_count": 82,
   "id": "f2716321-2540-4c89-a0df-9a05855ea10f",
   "metadata": {},
   "outputs": [
    {
     "name": "stdout",
     "output_type": "stream",
     "text": [
      "planning success\n",
      "elapsed time : 0.320143\n",
      "nodes:802\n"
     ]
    }
   ],
   "source": [
    "success, plan = rrt.plan()"
   ]
  },
  {
   "cell_type": "code",
   "execution_count": 83,
   "id": "fb9275ab-db32-48a6-8183-263bbc425ec2",
   "metadata": {},
   "outputs": [],
   "source": [
    "i=0\n",
    "checker.set_joint_positions(plan[i].q)"
   ]
  },
  {
   "cell_type": "code",
   "execution_count": 153,
   "id": "cba5cf07-241e-4f22-af8e-e4c2bc508637",
   "metadata": {},
   "outputs": [
    {
     "ename": "IndexError",
     "evalue": "list index out of range",
     "output_type": "error",
     "traceback": [
      "\u001b[0;31m---------------------------------------------------------------------------\u001b[0m",
      "\u001b[0;31mIndexError\u001b[0m                                Traceback (most recent call last)",
      "\u001b[0;32m/tmp/ipykernel_63051/3054361858.py\u001b[0m in \u001b[0;36m<module>\u001b[0;34m\u001b[0m\n\u001b[1;32m      1\u001b[0m \u001b[0mi\u001b[0m \u001b[0;34m+=\u001b[0m \u001b[0;36m1\u001b[0m\u001b[0;34m\u001b[0m\u001b[0;34m\u001b[0m\u001b[0m\n\u001b[0;32m----> 2\u001b[0;31m \u001b[0mchecker\u001b[0m\u001b[0;34m.\u001b[0m\u001b[0mset_joint_positions\u001b[0m\u001b[0;34m(\u001b[0m\u001b[0mplan\u001b[0m\u001b[0;34m[\u001b[0m\u001b[0mi\u001b[0m\u001b[0;34m]\u001b[0m\u001b[0;34m.\u001b[0m\u001b[0mq\u001b[0m\u001b[0;34m)\u001b[0m\u001b[0;34m\u001b[0m\u001b[0;34m\u001b[0m\u001b[0m\n\u001b[0m\u001b[1;32m      3\u001b[0m \u001b[0mprint\u001b[0m\u001b[0;34m(\u001b[0m\u001b[0mi\u001b[0m\u001b[0;34m+\u001b[0m\u001b[0;36m1\u001b[0m\u001b[0;34m,\u001b[0m\u001b[0;34m\"/\"\u001b[0m\u001b[0;34m,\u001b[0m \u001b[0mlen\u001b[0m\u001b[0;34m(\u001b[0m\u001b[0mplan\u001b[0m\u001b[0;34m)\u001b[0m\u001b[0;34m+\u001b[0m\u001b[0;36m1\u001b[0m\u001b[0;34m)\u001b[0m\u001b[0;34m\u001b[0m\u001b[0;34m\u001b[0m\u001b[0m\n",
      "\u001b[0;31mIndexError\u001b[0m: list index out of range"
     ]
    }
   ],
   "source": [
    "i += 1\n",
    "checker.set_joint_positions(plan[i].q)\n",
    "print(i+1,\"/\", len(plan)+1)"
   ]
  },
  {
   "cell_type": "markdown",
   "id": "80f1f9c4-9a68-42ba-814d-57aba7a24c23",
   "metadata": {},
   "source": [
    "### Task-space RRT (R3)"
   ]
  },
  {
   "cell_type": "code",
   "execution_count": 154,
   "id": "201128e5-0b35-4061-b178-c31100c7530d",
   "metadata": {},
   "outputs": [],
   "source": [
    "checker.set_home_positions()\n",
    "pos, _ = checker.get_ee_pose()\n",
    "q = np.array(checker._home_positions)\n",
    "start = NodeTaskPos(pos, q)\n",
    "#\n",
    "q_goal = NodeJoint.random().q\n",
    "pos, ori = checker.FK(q_goal)\n",
    "goal = NodeTaskPos(pos, q_goal)\n",
    "\n",
    "# load rrt\n",
    "rrt = RRT(start, goal, checker)"
   ]
  },
  {
   "cell_type": "code",
   "execution_count": 155,
   "id": "0dd7be50-82ed-400d-aef5-65b2215ee79b",
   "metadata": {},
   "outputs": [],
   "source": [
    "view_pose(goal.pos, [1,0,0,0])\n",
    "checker.set_joint_positions(q_goal)"
   ]
  },
  {
   "cell_type": "code",
   "execution_count": 156,
   "id": "19c4d535-e439-4e26-83e6-277fd27aec01",
   "metadata": {},
   "outputs": [
    {
     "name": "stdout",
     "output_type": "stream",
     "text": [
      "planning success\n",
      "elapsed time : 0.061662999999999996\n",
      "nodes:125\n"
     ]
    }
   ],
   "source": [
    "success, plan = rrt.plan()"
   ]
  },
  {
   "cell_type": "code",
   "execution_count": 157,
   "id": "5111c1c0-7357-4f06-b8f5-903dc323b8dd",
   "metadata": {},
   "outputs": [],
   "source": [
    "i=0\n",
    "checker.set_joint_positions(plan[i].q)"
   ]
  },
  {
   "cell_type": "code",
   "execution_count": 195,
   "id": "fbb33da7-0ec8-440c-9fbf-305419cb45ef",
   "metadata": {},
   "outputs": [
    {
     "ename": "IndexError",
     "evalue": "list index out of range",
     "output_type": "error",
     "traceback": [
      "\u001b[0;31m---------------------------------------------------------------------------\u001b[0m",
      "\u001b[0;31mIndexError\u001b[0m                                Traceback (most recent call last)",
      "\u001b[0;32m/tmp/ipykernel_63051/3054361858.py\u001b[0m in \u001b[0;36m<module>\u001b[0;34m\u001b[0m\n\u001b[1;32m      1\u001b[0m \u001b[0mi\u001b[0m \u001b[0;34m+=\u001b[0m \u001b[0;36m1\u001b[0m\u001b[0;34m\u001b[0m\u001b[0;34m\u001b[0m\u001b[0m\n\u001b[0;32m----> 2\u001b[0;31m \u001b[0mchecker\u001b[0m\u001b[0;34m.\u001b[0m\u001b[0mset_joint_positions\u001b[0m\u001b[0;34m(\u001b[0m\u001b[0mplan\u001b[0m\u001b[0;34m[\u001b[0m\u001b[0mi\u001b[0m\u001b[0;34m]\u001b[0m\u001b[0;34m.\u001b[0m\u001b[0mq\u001b[0m\u001b[0;34m)\u001b[0m\u001b[0;34m\u001b[0m\u001b[0;34m\u001b[0m\u001b[0m\n\u001b[0m\u001b[1;32m      3\u001b[0m \u001b[0mprint\u001b[0m\u001b[0;34m(\u001b[0m\u001b[0mi\u001b[0m\u001b[0;34m+\u001b[0m\u001b[0;36m1\u001b[0m\u001b[0;34m,\u001b[0m\u001b[0;34m\"/\"\u001b[0m\u001b[0;34m,\u001b[0m \u001b[0mlen\u001b[0m\u001b[0;34m(\u001b[0m\u001b[0mplan\u001b[0m\u001b[0;34m)\u001b[0m\u001b[0;34m+\u001b[0m\u001b[0;36m1\u001b[0m\u001b[0;34m)\u001b[0m\u001b[0;34m\u001b[0m\u001b[0;34m\u001b[0m\u001b[0m\n",
      "\u001b[0;31mIndexError\u001b[0m: list index out of range"
     ]
    }
   ],
   "source": [
    "i += 1\n",
    "checker.set_joint_positions(plan[i].q)\n",
    "print(i+1,\"/\", len(plan)+1)"
   ]
  },
  {
   "cell_type": "markdown",
   "id": "085ead2b-b024-4725-9bb7-71e11049b463",
   "metadata": {},
   "source": [
    "### Task-space RRT (R3, SO3)"
   ]
  },
  {
   "cell_type": "code",
   "execution_count": 4,
   "id": "929346ab-a314-443e-ae6e-6e5633b7ccb7",
   "metadata": {},
   "outputs": [],
   "source": [
    "NodeTaskPosOri.trans_max = 0.1\n",
    "NodeTaskPosOri.rot_max = 0.1\n",
    "NodeTaskPosOri.eps = 0.01"
   ]
  },
  {
   "cell_type": "code",
   "execution_count": 5,
   "id": "6fd6cfd2-d420-41b9-854b-b34b453e456c",
   "metadata": {},
   "outputs": [],
   "source": [
    "checker.set_home_positions()\n",
    "pos, ori = checker.get_ee_pose()\n",
    "q = np.array(checker._home_positions)\n",
    "start = NodeTaskPosOri(pos, ori, q)\n",
    "#\n",
    "q_goal = NodeJoint.random().q\n",
    "pos, ori = checker.FK(q_goal)\n",
    "goal = NodeTaskPosOri(pos, ori, q_goal)\n",
    "\n",
    "# load rrt\n",
    "rrt = RRT(start, goal, checker)"
   ]
  },
  {
   "cell_type": "code",
   "execution_count": 29,
   "id": "ba399555-6ed3-4e70-aaa3-53b1cf0b5df3",
   "metadata": {},
   "outputs": [],
   "source": [
    "view_pose(goal.pos, goal.ori)\n",
    "checker.set_joint_positions(q_goal)"
   ]
  },
  {
   "cell_type": "code",
   "execution_count": 30,
   "id": "3fb54916-2129-43bd-9052-f6480fb004e2",
   "metadata": {},
   "outputs": [
    {
     "name": "stdout",
     "output_type": "stream",
     "text": [
      "planning fail\n",
      "elapsed time : 5.044366\n",
      "nodes:2982\n"
     ]
    }
   ],
   "source": [
    "success, plan = rrt.plan()"
   ]
  },
  {
   "cell_type": "code",
   "execution_count": 8,
   "id": "bbd65164-4d57-47b9-94a9-4584d38a5b95",
   "metadata": {},
   "outputs": [],
   "source": [
    "import numpy as np\n",
    "from tsrrt.data_structure import NodeJoint, Tree\n",
    "from spatial_math_mini import SO3, SE3\n",
    "import datetime\n",
    "\n",
    "class RRT:\n",
    "    def __init__(self, start, goal, checker):\n",
    "        self._tree = Tree(start)\n",
    "        self._start = start\n",
    "        self._goal = goal\n",
    "        self._last_node = None\n",
    "        self._node_class = type(start)\n",
    "        self._checker = checker\n",
    "        \n",
    "        self._goal_bias = 0.05\n",
    "        \n",
    "    def extend(self, node_rand):\n",
    "        node_near = self._tree.nearest(node_rand)\n",
    "        if self._node_class.distance(node_rand, node_near) < self._node_class.eps:\n",
    "            # same node\n",
    "            return\n",
    "        \n",
    "        parent = node_near\n",
    "        node_new, is_stop = self._node_class.control(parent, node_rand, self._checker)\n",
    "        if is_stop:\n",
    "            return\n",
    "        while node_new != node_rand:\n",
    "            self._checker.set_joint_positions(node_new.q)\n",
    "            if (not node_new.is_valid(self._checker)):\n",
    "                break\n",
    "            self._tree.add(parent, node_new)\n",
    "            \n",
    "            if (self._node_class.distance(self._goal, node_new) <= self._node_class.eps):\n",
    "                self._last_node = node_new\n",
    "                break\n",
    "            parent = node_new\n",
    "            node_new, is_stop = self._node_class.control(parent, node_rand, self._checker)\n",
    "            if is_stop:\n",
    "                break\n",
    "    \n",
    "    def is_goal_found(self):\n",
    "        return self._last_node is not None\n",
    "    \n",
    "    def plan(self, max_time=10000000000000.0):\n",
    "        self._last_node = None\n",
    "        start_time = datetime.datetime.now()\n",
    "        while not self.is_goal_found():\n",
    "            if np.random.random() > self._goal_bias:\n",
    "                node_rand = self._node_class.random()\n",
    "            else:\n",
    "                node_rand = self._goal\n",
    "            view_pose(node_rand.pos, node_rand.ori)\n",
    "            self.extend(node_rand)\n",
    "\n",
    "            time_delta = (datetime.datetime.now() - start_time)\n",
    "            elapsed = time_delta.seconds + 0.000001 * time_delta.microseconds\n",
    "            if elapsed > max_time:\n",
    "                break\n",
    "\n",
    "        if self.is_goal_found():\n",
    "            print(\"planning success\")\n",
    "        else:\n",
    "            print(\"planning fail\")\n",
    "        print(\"elapsed time : {}\".format(elapsed))\n",
    "        print(\"nodes:{}\".format(self._tree._num))\n",
    "        return self.is_goal_found(), self.path()\n",
    "\n",
    "    def path(self):\n",
    "        if not self.is_goal_found():\n",
    "            return []\n",
    "        path = [self._last_node]\n",
    "        child_idx = self._last_node.idx\n",
    "        while True:\n",
    "            parent_idx = self._tree._parent_of[child_idx]\n",
    "            if parent_idx is None:\n",
    "                break\n",
    "            path.append(self._tree._data[parent_idx])\n",
    "            child_idx = parent_idx\n",
    "        return path[::-1]\n",
    "\n",
    "    def reset(self):\n",
    "        self._tree = Tree(self._start)\n",
    "        self._last_node = None"
   ]
  },
  {
   "cell_type": "code",
   "execution_count": 9,
   "id": "f15b4960-22de-47d6-9acf-d6f130425a03",
   "metadata": {},
   "outputs": [],
   "source": [
    "# load rrt\n",
    "rrt = RRT(start, goal, checker)"
   ]
  },
  {
   "cell_type": "code",
   "execution_count": 10,
   "id": "e621c37d-1b70-4195-86d4-15ea843d6228",
   "metadata": {},
   "outputs": [
    {
     "name": "stderr",
     "output_type": "stream",
     "text": [
      "Traceback (most recent call last):\n",
      "  File \"_pydevd_bundle/pydevd_cython.pyx\", line 1078, in _pydevd_bundle.pydevd_cython.PyDBFrame.trace_dispatch\n",
      "  File \"_pydevd_bundle/pydevd_cython.pyx\", line 297, in _pydevd_bundle.pydevd_cython.PyDBFrame.do_wait_suspend\n",
      "  File \"/home/kh11kim/.local/lib/python3.8/site-packages/debugpy/_vendored/pydevd/pydevd.py\", line 1976, in do_wait_suspend\n",
      "    keep_suspended = self._do_wait_suspend(thread, frame, event, arg, suspend_type, from_this_thread, frames_tracker)\n",
      "  File \"/home/kh11kim/.local/lib/python3.8/site-packages/debugpy/_vendored/pydevd/pydevd.py\", line 2011, in _do_wait_suspend\n",
      "    time.sleep(0.01)\n",
      "KeyboardInterrupt\n"
     ]
    },
    {
     "ename": "KeyboardInterrupt",
     "evalue": "",
     "output_type": "error",
     "traceback": [
      "\u001b[0;31m---------------------------------------------------------------------------\u001b[0m",
      "\u001b[0;31mKeyboardInterrupt\u001b[0m                         Traceback (most recent call last)",
      "\u001b[0;32m/tmp/ipykernel_66493/1310531815.py\u001b[0m in \u001b[0;36m<module>\u001b[0;34m\u001b[0m\n\u001b[0;32m----> 1\u001b[0;31m \u001b[0mrrt\u001b[0m\u001b[0;34m.\u001b[0m\u001b[0mplan\u001b[0m\u001b[0;34m(\u001b[0m\u001b[0;34m)\u001b[0m\u001b[0;34m\u001b[0m\u001b[0;34m\u001b[0m\u001b[0m\n\u001b[0m",
      "\u001b[0;32m/tmp/ipykernel_66493/3743976268.py\u001b[0m in \u001b[0;36mplan\u001b[0;34m(self, max_time)\u001b[0m\n\u001b[1;32m     51\u001b[0m                 \u001b[0mnode_rand\u001b[0m \u001b[0;34m=\u001b[0m \u001b[0mself\u001b[0m\u001b[0;34m.\u001b[0m\u001b[0m_goal\u001b[0m\u001b[0;34m\u001b[0m\u001b[0;34m\u001b[0m\u001b[0m\n\u001b[1;32m     52\u001b[0m             \u001b[0mview_pose\u001b[0m\u001b[0;34m(\u001b[0m\u001b[0mnode_rand\u001b[0m\u001b[0;34m.\u001b[0m\u001b[0mpos\u001b[0m\u001b[0;34m,\u001b[0m \u001b[0mnode_rand\u001b[0m\u001b[0;34m.\u001b[0m\u001b[0mori\u001b[0m\u001b[0;34m)\u001b[0m\u001b[0;34m\u001b[0m\u001b[0;34m\u001b[0m\u001b[0m\n\u001b[0;32m---> 53\u001b[0;31m             \u001b[0mself\u001b[0m\u001b[0;34m.\u001b[0m\u001b[0mextend\u001b[0m\u001b[0;34m(\u001b[0m\u001b[0mnode_rand\u001b[0m\u001b[0;34m)\u001b[0m\u001b[0;34m\u001b[0m\u001b[0;34m\u001b[0m\u001b[0m\n\u001b[0m\u001b[1;32m     54\u001b[0m \u001b[0;34m\u001b[0m\u001b[0m\n\u001b[1;32m     55\u001b[0m             \u001b[0mtime_delta\u001b[0m \u001b[0;34m=\u001b[0m \u001b[0;34m(\u001b[0m\u001b[0mdatetime\u001b[0m\u001b[0;34m.\u001b[0m\u001b[0mdatetime\u001b[0m\u001b[0;34m.\u001b[0m\u001b[0mnow\u001b[0m\u001b[0;34m(\u001b[0m\u001b[0;34m)\u001b[0m \u001b[0;34m-\u001b[0m \u001b[0mstart_time\u001b[0m\u001b[0;34m)\u001b[0m\u001b[0;34m\u001b[0m\u001b[0;34m\u001b[0m\u001b[0m\n",
      "\u001b[0;32m/tmp/ipykernel_66493/3743976268.py\u001b[0m in \u001b[0;36mextend\u001b[0;34m(self, node_rand)\u001b[0m\n\u001b[1;32m     26\u001b[0m             \u001b[0;32mreturn\u001b[0m\u001b[0;34m\u001b[0m\u001b[0;34m\u001b[0m\u001b[0m\n\u001b[1;32m     27\u001b[0m         \u001b[0;32mwhile\u001b[0m \u001b[0mnode_new\u001b[0m \u001b[0;34m!=\u001b[0m \u001b[0mnode_rand\u001b[0m\u001b[0;34m:\u001b[0m\u001b[0;34m\u001b[0m\u001b[0;34m\u001b[0m\u001b[0m\n\u001b[0;32m---> 28\u001b[0;31m             \u001b[0mself\u001b[0m\u001b[0;34m.\u001b[0m\u001b[0m_checker\u001b[0m\u001b[0;34m.\u001b[0m\u001b[0mset_joint_positions\u001b[0m\u001b[0;34m(\u001b[0m\u001b[0mnode_new\u001b[0m\u001b[0;34m.\u001b[0m\u001b[0mq\u001b[0m\u001b[0;34m)\u001b[0m\u001b[0;34m\u001b[0m\u001b[0;34m\u001b[0m\u001b[0m\n\u001b[0m\u001b[1;32m     29\u001b[0m             \u001b[0;32mif\u001b[0m \u001b[0;34m(\u001b[0m\u001b[0;32mnot\u001b[0m \u001b[0mnode_new\u001b[0m\u001b[0;34m.\u001b[0m\u001b[0mis_valid\u001b[0m\u001b[0;34m(\u001b[0m\u001b[0mself\u001b[0m\u001b[0;34m.\u001b[0m\u001b[0m_checker\u001b[0m\u001b[0;34m)\u001b[0m\u001b[0;34m)\u001b[0m\u001b[0;34m:\u001b[0m\u001b[0;34m\u001b[0m\u001b[0;34m\u001b[0m\u001b[0m\n\u001b[1;32m     30\u001b[0m                 \u001b[0;32mbreak\u001b[0m\u001b[0;34m\u001b[0m\u001b[0;34m\u001b[0m\u001b[0m\n",
      "\u001b[0;32m/tmp/ipykernel_66493/3743976268.py\u001b[0m in \u001b[0;36mextend\u001b[0;34m(self, node_rand)\u001b[0m\n\u001b[1;32m     26\u001b[0m             \u001b[0;32mreturn\u001b[0m\u001b[0;34m\u001b[0m\u001b[0;34m\u001b[0m\u001b[0m\n\u001b[1;32m     27\u001b[0m         \u001b[0;32mwhile\u001b[0m \u001b[0mnode_new\u001b[0m \u001b[0;34m!=\u001b[0m \u001b[0mnode_rand\u001b[0m\u001b[0;34m:\u001b[0m\u001b[0;34m\u001b[0m\u001b[0;34m\u001b[0m\u001b[0m\n\u001b[0;32m---> 28\u001b[0;31m             \u001b[0mself\u001b[0m\u001b[0;34m.\u001b[0m\u001b[0m_checker\u001b[0m\u001b[0;34m.\u001b[0m\u001b[0mset_joint_positions\u001b[0m\u001b[0;34m(\u001b[0m\u001b[0mnode_new\u001b[0m\u001b[0;34m.\u001b[0m\u001b[0mq\u001b[0m\u001b[0;34m)\u001b[0m\u001b[0;34m\u001b[0m\u001b[0;34m\u001b[0m\u001b[0m\n\u001b[0m\u001b[1;32m     29\u001b[0m             \u001b[0;32mif\u001b[0m \u001b[0;34m(\u001b[0m\u001b[0;32mnot\u001b[0m \u001b[0mnode_new\u001b[0m\u001b[0;34m.\u001b[0m\u001b[0mis_valid\u001b[0m\u001b[0;34m(\u001b[0m\u001b[0mself\u001b[0m\u001b[0;34m.\u001b[0m\u001b[0m_checker\u001b[0m\u001b[0;34m)\u001b[0m\u001b[0;34m)\u001b[0m\u001b[0;34m:\u001b[0m\u001b[0;34m\u001b[0m\u001b[0;34m\u001b[0m\u001b[0m\n\u001b[1;32m     30\u001b[0m                 \u001b[0;32mbreak\u001b[0m\u001b[0;34m\u001b[0m\u001b[0;34m\u001b[0m\u001b[0m\n",
      "\u001b[0;32m_pydevd_bundle/pydevd_cython.pyx\u001b[0m in \u001b[0;36m_pydevd_bundle.pydevd_cython.SafeCallWrapper.__call__\u001b[0;34m()\u001b[0m\n",
      "\u001b[0;32m_pydevd_bundle/pydevd_cython.pyx\u001b[0m in \u001b[0;36m_pydevd_bundle.pydevd_cython.PyDBFrame.trace_dispatch\u001b[0;34m()\u001b[0m\n",
      "\u001b[0;32m_pydevd_bundle/pydevd_cython.pyx\u001b[0m in \u001b[0;36m_pydevd_bundle.pydevd_cython.PyDBFrame.trace_dispatch\u001b[0;34m()\u001b[0m\n",
      "\u001b[0;32m_pydevd_bundle/pydevd_cython.pyx\u001b[0m in \u001b[0;36m_pydevd_bundle.pydevd_cython.PyDBFrame.trace_dispatch\u001b[0;34m()\u001b[0m\n",
      "\u001b[0;32m_pydevd_bundle/pydevd_cython.pyx\u001b[0m in \u001b[0;36m_pydevd_bundle.pydevd_cython.PyDBFrame.do_wait_suspend\u001b[0;34m()\u001b[0m\n",
      "\u001b[0;32m~/.local/lib/python3.8/site-packages/debugpy/_vendored/pydevd/pydevd.py\u001b[0m in \u001b[0;36mdo_wait_suspend\u001b[0;34m(self, thread, frame, event, arg, exception_type)\u001b[0m\n\u001b[1;32m   1974\u001b[0m \u001b[0;34m\u001b[0m\u001b[0m\n\u001b[1;32m   1975\u001b[0m             \u001b[0;32mwith\u001b[0m \u001b[0mself\u001b[0m\u001b[0;34m.\u001b[0m\u001b[0m_threads_suspended_single_notification\u001b[0m\u001b[0;34m.\u001b[0m\u001b[0mnotify_thread_suspended\u001b[0m\u001b[0;34m(\u001b[0m\u001b[0mthread_id\u001b[0m\u001b[0;34m,\u001b[0m \u001b[0mstop_reason\u001b[0m\u001b[0;34m)\u001b[0m\u001b[0;34m:\u001b[0m\u001b[0;34m\u001b[0m\u001b[0;34m\u001b[0m\u001b[0m\n\u001b[0;32m-> 1976\u001b[0;31m                 \u001b[0mkeep_suspended\u001b[0m \u001b[0;34m=\u001b[0m \u001b[0mself\u001b[0m\u001b[0;34m.\u001b[0m\u001b[0m_do_wait_suspend\u001b[0m\u001b[0;34m(\u001b[0m\u001b[0mthread\u001b[0m\u001b[0;34m,\u001b[0m \u001b[0mframe\u001b[0m\u001b[0;34m,\u001b[0m \u001b[0mevent\u001b[0m\u001b[0;34m,\u001b[0m \u001b[0marg\u001b[0m\u001b[0;34m,\u001b[0m \u001b[0msuspend_type\u001b[0m\u001b[0;34m,\u001b[0m \u001b[0mfrom_this_thread\u001b[0m\u001b[0;34m,\u001b[0m \u001b[0mframes_tracker\u001b[0m\u001b[0;34m)\u001b[0m\u001b[0;34m\u001b[0m\u001b[0;34m\u001b[0m\u001b[0m\n\u001b[0m\u001b[1;32m   1977\u001b[0m \u001b[0;34m\u001b[0m\u001b[0m\n\u001b[1;32m   1978\u001b[0m         \u001b[0mframes_list\u001b[0m \u001b[0;34m=\u001b[0m \u001b[0;32mNone\u001b[0m\u001b[0;34m\u001b[0m\u001b[0;34m\u001b[0m\u001b[0m\n",
      "\u001b[0;32m~/.local/lib/python3.8/site-packages/debugpy/_vendored/pydevd/pydevd.py\u001b[0m in \u001b[0;36m_do_wait_suspend\u001b[0;34m(self, thread, frame, event, arg, suspend_type, from_this_thread, frames_tracker)\u001b[0m\n\u001b[1;32m   2009\u001b[0m \u001b[0;34m\u001b[0m\u001b[0m\n\u001b[1;32m   2010\u001b[0m             \u001b[0mself\u001b[0m\u001b[0;34m.\u001b[0m\u001b[0mprocess_internal_commands\u001b[0m\u001b[0;34m(\u001b[0m\u001b[0;34m)\u001b[0m\u001b[0;34m\u001b[0m\u001b[0;34m\u001b[0m\u001b[0m\n\u001b[0;32m-> 2011\u001b[0;31m             \u001b[0mtime\u001b[0m\u001b[0;34m.\u001b[0m\u001b[0msleep\u001b[0m\u001b[0;34m(\u001b[0m\u001b[0;36m0.01\u001b[0m\u001b[0;34m)\u001b[0m\u001b[0;34m\u001b[0m\u001b[0;34m\u001b[0m\u001b[0m\n\u001b[0m\u001b[1;32m   2012\u001b[0m \u001b[0;34m\u001b[0m\u001b[0m\n\u001b[1;32m   2013\u001b[0m         \u001b[0mself\u001b[0m\u001b[0;34m.\u001b[0m\u001b[0mcancel_async_evaluation\u001b[0m\u001b[0;34m(\u001b[0m\u001b[0mget_current_thread_id\u001b[0m\u001b[0;34m(\u001b[0m\u001b[0mthread\u001b[0m\u001b[0;34m)\u001b[0m\u001b[0;34m,\u001b[0m \u001b[0mstr\u001b[0m\u001b[0;34m(\u001b[0m\u001b[0mid\u001b[0m\u001b[0;34m(\u001b[0m\u001b[0mframe\u001b[0m\u001b[0;34m)\u001b[0m\u001b[0;34m)\u001b[0m\u001b[0;34m)\u001b[0m\u001b[0;34m\u001b[0m\u001b[0;34m\u001b[0m\u001b[0m\n",
      "\u001b[0;31mKeyboardInterrupt\u001b[0m: "
     ]
    }
   ],
   "source": [
    "rrt.plan()"
   ]
  },
  {
   "cell_type": "code",
   "execution_count": null,
   "id": "53554c28-5b3d-4667-8e32-ec072287d352",
   "metadata": {},
   "outputs": [],
   "source": [
    "Node"
   ]
  },
  {
   "cell_type": "code",
   "execution_count": 13,
   "id": "a5eef877-d5be-435c-b288-37850d9231cb",
   "metadata": {},
   "outputs": [],
   "source": [
    "node, success = NodeTaskPosOri.control(start, goal, checker)"
   ]
  },
  {
   "cell_type": "code",
   "execution_count": 40,
   "id": "1181f095-f692-4d66-8f39-5cd3471f1e13",
   "metadata": {},
   "outputs": [],
   "source": [
    "node, success = NodeTaskPosOri.control(node, goal, checker)\n",
    "checker.set_joint_positions(node.q)"
   ]
  },
  {
   "cell_type": "code",
   "execution_count": 41,
   "id": "b99ba49c-9863-4d39-a5e0-b301ddd0033c",
   "metadata": {},
   "outputs": [],
   "source": [
    "checker.set_joint_positions(start.q)"
   ]
  },
  {
   "cell_type": "code",
   "execution_count": 30,
   "id": "66ca04db-6187-4316-973f-f70b29e57607",
   "metadata": {},
   "outputs": [],
   "source": [
    "checker.set_joint_positions(node.q)"
   ]
  },
  {
   "cell_type": "code",
   "execution_count": 44,
   "id": "b0248fc4-0ae8-4b7f-909c-29073e07fd4d",
   "metadata": {},
   "outputs": [
    {
     "data": {
      "text/plain": [
       "[9, 10, 11]"
      ]
     },
     "execution_count": 44,
     "metadata": {},
     "output_type": "execute_result"
    }
   ],
   "source": [
    "view_pose(start.pos, start.ori)"
   ]
  },
  {
   "cell_type": "code",
   "execution_count": 856,
   "id": "f67a0a80-b9c7-4ed6-b90c-44cf0ae64cd8",
   "metadata": {},
   "outputs": [],
   "source": [
    "NodeTaskPosOri.trans_max = 0.1\n",
    "NodeTaskPosOri.rot_max = 2"
   ]
  },
  {
   "cell_type": "code",
   "execution_count": 44,
   "id": "8f2371de-5ea2-4a20-9d4a-a4be9fff2581",
   "metadata": {},
   "outputs": [],
   "source": [
    "clear()"
   ]
  },
  {
   "cell_type": "code",
   "execution_count": 8,
   "id": "c2207fcd-5b3d-4d4e-a65d-525a82861bee",
   "metadata": {},
   "outputs": [],
   "source": [
    "goal = NodeTaskPosOri(start.pos+np.array([0.2,0.2,0.2]), SO3.random().to_qtn())"
   ]
  },
  {
   "cell_type": "code",
   "execution_count": 45,
   "id": "d5d5430c-8448-48b2-a884-4e3ee4bf1b64",
   "metadata": {},
   "outputs": [
    {
     "data": {
      "text/plain": [
       "[15, 16, 17]"
      ]
     },
     "execution_count": 45,
     "metadata": {},
     "output_type": "execute_result"
    }
   ],
   "source": [
    "view_pose(start.pos, start.ori)\n",
    "view_pose(goal.pos, goal.ori)"
   ]
  },
  {
   "cell_type": "code",
   "execution_count": 80,
   "id": "027485e1-cb07-42e2-8d9d-86d1a4cb9143",
   "metadata": {},
   "outputs": [],
   "source": [
    "node, suc = NodeTaskPosOri.control(start, goal, checker)"
   ]
  },
  {
   "cell_type": "code",
   "execution_count": 109,
   "id": "5c1e1831-2ccd-4585-b6a5-052e364abcc4",
   "metadata": {},
   "outputs": [
    {
     "name": "stdout",
     "output_type": "stream",
     "text": [
      "39.55323385227775\n"
     ]
    }
   ],
   "source": [
    "node, suc = NodeTaskPosOri.control(node, goal, checker)\n",
    "checker.set_joint_positions(node.q)\n",
    "print(node._m)"
   ]
  },
  {
   "cell_type": "code",
   "execution_count": 81,
   "id": "5dbc1356-c871-410e-bc0e-edda4ac3c6e5",
   "metadata": {},
   "outputs": [],
   "source": [
    "checker.set_joint_positions(node.q)"
   ]
  },
  {
   "cell_type": "code",
   "execution_count": 50,
   "id": "f0e692d0-1252-43df-92a4-7cc813ec9d03",
   "metadata": {},
   "outputs": [
    {
     "ename": "AttributeError",
     "evalue": "'tuple' object has no attribute 'q'",
     "output_type": "error",
     "traceback": [
      "\u001b[0;31m---------------------------------------------------------------------------\u001b[0m",
      "\u001b[0;31mAttributeError\u001b[0m                            Traceback (most recent call last)",
      "\u001b[0;32m/tmp/ipykernel_65102/1825748283.py\u001b[0m in \u001b[0;36m<module>\u001b[0;34m\u001b[0m\n\u001b[0;32m----> 1\u001b[0;31m \u001b[0mnode\u001b[0m\u001b[0;34m.\u001b[0m\u001b[0mq\u001b[0m\u001b[0;34m\u001b[0m\u001b[0;34m\u001b[0m\u001b[0m\n\u001b[0m",
      "\u001b[0;31mAttributeError\u001b[0m: 'tuple' object has no attribute 'q'"
     ]
    }
   ],
   "source": [
    "node.q"
   ]
  },
  {
   "cell_type": "code",
   "execution_count": 13,
   "id": "29b4fec6-da3c-4be5-a91f-f4bb94eec3eb",
   "metadata": {},
   "outputs": [],
   "source": [
    "pos, ori = start.pos, start.ori\n",
    "q_new = start.q"
   ]
  },
  {
   "cell_type": "code",
   "execution_count": 41,
   "id": "078edc91-1c15-4cb7-b5f3-fc5ad819cb8d",
   "metadata": {},
   "outputs": [],
   "source": [
    "SE3_1 = SE3(ori, pos)\n",
    "SE3_2 = SE3(goal.ori, goal.pos)\n",
    "screw, angle = (SE3_1.inv() @ SE3_2).to_twistangle()\n",
    "twist = screw*angle\n",
    "diff = NodeTaskPosOri.crop_within_limits(twist)\n",
    "jac_pinv = np.linalg.pinv(checker.get_body_jacobian(q_new))\n",
    "q_new = jac_pinv @ diff + q_new\n",
    "pos, ori = checker.get_ee_pose()\n",
    "checker.set_joint_positions(q_new)"
   ]
  },
  {
   "cell_type": "code",
   "execution_count": 43,
   "id": "b250d3a8-f923-423c-b49d-9fd91f7e60d5",
   "metadata": {},
   "outputs": [
    {
     "data": {
      "text/plain": [
       "[9, 10, 11]"
      ]
     },
     "execution_count": 43,
     "metadata": {},
     "output_type": "execute_result"
    }
   ],
   "source": [
    "pos, ori = checker.get_ee_pose()\n",
    "view_pose(pos, ori)"
   ]
  },
  {
   "cell_type": "code",
   "execution_count": 1809,
   "id": "1a9925f2-fc50-442a-bce4-62443c4c165e",
   "metadata": {},
   "outputs": [
    {
     "data": {
      "text/plain": [
       "array([ 0.73483486, -0.61574523,  0.28438624, -0.05723631, -0.12342765,\n",
       "        0.07559676])"
      ]
     },
     "execution_count": 1809,
     "metadata": {},
     "output_type": "execute_result"
    }
   ],
   "source": [
    "screw, angle"
   ]
  },
  {
   "cell_type": "code",
   "execution_count": 1567,
   "id": "62ab0a51-d834-4dca-b4da-2a56bb70f06d",
   "metadata": {},
   "outputs": [
    {
     "data": {
      "text/plain": [
       "[15, 16, 17]"
      ]
     },
     "execution_count": 1567,
     "metadata": {},
     "output_type": "execute_result"
    }
   ],
   "source": [
    "checker.set_joint_positions(start.q)\n",
    "view_pose(start.pos, start.ori)"
   ]
  },
  {
   "cell_type": "code",
   "execution_count": 217,
   "id": "edfdf1b1-a739-4fea-addf-b2fc5222ca97",
   "metadata": {},
   "outputs": [],
   "source": [
    "i=0\n",
    "checker.set_joint_positions(plan[i].q)"
   ]
  },
  {
   "cell_type": "code",
   "execution_count": 259,
   "id": "16b5a27b-868d-462b-86b0-e260b7917992",
   "metadata": {},
   "outputs": [
    {
     "name": "stdout",
     "output_type": "stream",
     "text": [
      "43 / 45\n"
     ]
    }
   ],
   "source": [
    "i += 1\n",
    "checker.set_joint_positions(plan[i].q)\n",
    "print(i+1,\"/\", len(plan)+1)"
   ]
  },
  {
   "cell_type": "code",
   "execution_count": null,
   "id": "95b72ee0-3b2c-4b55-99ec-33d0ddbb95d4",
   "metadata": {},
   "outputs": [],
   "source": []
  },
  {
   "cell_type": "code",
   "execution_count": 34,
   "id": "5de318d1-a858-40d4-835c-afdc5d181c89",
   "metadata": {},
   "outputs": [],
   "source": [
    "i=0\n",
    "checker.set_joint_positions(rrt._tree._data[i].q)"
   ]
  },
  {
   "cell_type": "code",
   "execution_count": 90,
   "id": "6fd714b4-4bd5-4907-810e-f84368272c5e",
   "metadata": {},
   "outputs": [
    {
     "name": "stdout",
     "output_type": "stream",
     "text": [
      "57 / 1\n"
     ]
    }
   ],
   "source": [
    "i += 1\n",
    "checker.set_joint_positions(rrt._tree._data[i].q)\n",
    "print(i+1,\"/\", len(plan)+1)"
   ]
  },
  {
   "cell_type": "code",
   "execution_count": 7,
   "id": "48aeccc0-6c29-4574-acff-e50223fea708",
   "metadata": {},
   "outputs": [],
   "source": [
    "panda.set_home_positions()"
   ]
  },
  {
   "cell_type": "code",
   "execution_count": 8,
   "id": "4db15a49-57fd-4df6-a45a-600a606d924c",
   "metadata": {},
   "outputs": [],
   "source": [
    "panda.set_joint_positions(NodeJoint.random())"
   ]
  },
  {
   "cell_type": "code",
   "execution_count": 11,
   "id": "eed7140f-be68-4608-b125-77d7a2d7aaf0",
   "metadata": {},
   "outputs": [],
   "source": [
    "rand = NodeJoint.random()"
   ]
  },
  {
   "cell_type": "code",
   "execution_count": 12,
   "id": "937a70d3-057c-4f13-9a65-7f7d33717bec",
   "metadata": {},
   "outputs": [
    {
     "data": {
      "text/plain": [
       "3.8010215297231573"
      ]
     },
     "execution_count": 12,
     "metadata": {},
     "output_type": "execute_result"
    }
   ],
   "source": [
    "np.linalg.norm(root.q - rand.q)"
   ]
  },
  {
   "cell_type": "code",
   "execution_count": 11,
   "id": "65481eb3-085c-48e0-bce6-47988b162ca6",
   "metadata": {},
   "outputs": [
    {
     "data": {
      "text/plain": [
       "2.490236950544942"
      ]
     },
     "execution_count": 11,
     "metadata": {},
     "output_type": "execute_result"
    }
   ],
   "source": [
    "root - rand"
   ]
  },
  {
   "cell_type": "code",
   "execution_count": 14,
   "id": "51ca3712-92af-437c-9829-3fff95fbc117",
   "metadata": {},
   "outputs": [
    {
     "data": {
      "text/plain": [
       "[3, 4, 5]"
      ]
     },
     "execution_count": 14,
     "metadata": {},
     "output_type": "execute_result"
    }
   ],
   "source": [
    "collision_checker.set_home_positions()\n",
    "pos = StateSpace._get_valid_sample()\n",
    "view_pose(pos, [1,0,0,0])"
   ]
  },
  {
   "cell_type": "code",
   "execution_count": 23,
   "id": "0c4c85d7-daff-41e5-98f5-21e9d1aef243",
   "metadata": {},
   "outputs": [],
   "source": [
    "a = Node.random(set_q=True)"
   ]
  },
  {
   "cell_type": "code",
   "execution_count": 24,
   "id": "7c4feebb-53e4-456e-a48a-25a6eab15d3d",
   "metadata": {},
   "outputs": [
    {
     "data": {
      "text/plain": [
       "array([ 0.28907159,  0.30887164,  0.2805836 , -2.14880861,  0.11704414,\n",
       "        1.33202861,  0.78539816])"
      ]
     },
     "execution_count": 24,
     "metadata": {},
     "output_type": "execute_result"
    }
   ],
   "source": [
    "a.q"
   ]
  },
  {
   "cell_type": "code",
   "execution_count": 12,
   "id": "96966795-7474-4378-af76-83ea0b554184",
   "metadata": {},
   "outputs": [
    {
     "ename": "TypeError",
     "evalue": "'NoneType' object is not subscriptable",
     "output_type": "error",
     "traceback": [
      "\u001b[0;31m---------------------------------------------------------------------------\u001b[0m",
      "\u001b[0;31mTypeError\u001b[0m                                 Traceback (most recent call last)",
      "\u001b[0;32m/tmp/ipykernel_16855/1109539928.py\u001b[0m in \u001b[0;36m<module>\u001b[0;34m\u001b[0m\n\u001b[0;32m----> 1\u001b[0;31m \u001b[0ma\u001b[0m\u001b[0;34m[\u001b[0m\u001b[0;36m0\u001b[0m\u001b[0;34m]\u001b[0m\u001b[0;34m\u001b[0m\u001b[0;34m\u001b[0m\u001b[0m\n\u001b[0m",
      "\u001b[0;32m/tmp/ipykernel_16855/3094219095.py\u001b[0m in \u001b[0;36m__getitem__\u001b[0;34m(self, i)\u001b[0m\n\u001b[1;32m     51\u001b[0m \u001b[0;34m\u001b[0m\u001b[0m\n\u001b[1;32m     52\u001b[0m     \u001b[0;32mdef\u001b[0m \u001b[0m__getitem__\u001b[0m\u001b[0;34m(\u001b[0m\u001b[0mself\u001b[0m\u001b[0;34m,\u001b[0m \u001b[0mi\u001b[0m\u001b[0;34m)\u001b[0m\u001b[0;34m:\u001b[0m\u001b[0;34m\u001b[0m\u001b[0;34m\u001b[0m\u001b[0m\n\u001b[0;32m---> 53\u001b[0;31m         \u001b[0;32mreturn\u001b[0m \u001b[0mself\u001b[0m\u001b[0;34m.\u001b[0m\u001b[0mq\u001b[0m\u001b[0;34m[\u001b[0m\u001b[0mi\u001b[0m\u001b[0;34m]\u001b[0m\u001b[0;34m\u001b[0m\u001b[0;34m\u001b[0m\u001b[0m\n\u001b[0m\u001b[1;32m     54\u001b[0m \u001b[0;34m\u001b[0m\u001b[0m\n\u001b[1;32m     55\u001b[0m     \u001b[0;32mdef\u001b[0m \u001b[0m__len__\u001b[0m\u001b[0;34m(\u001b[0m\u001b[0mself\u001b[0m\u001b[0;34m)\u001b[0m\u001b[0;34m:\u001b[0m\u001b[0;34m\u001b[0m\u001b[0;34m\u001b[0m\u001b[0m\n",
      "\u001b[0;31mTypeError\u001b[0m: 'NoneType' object is not subscriptable"
     ]
    }
   ],
   "source": [
    "a[0]"
   ]
  }
 ],
 "metadata": {
  "kernelspec": {
   "display_name": "Python 3 (ipykernel)",
   "language": "python",
   "name": "python3"
  },
  "language_info": {
   "codemirror_mode": {
    "name": "ipython",
    "version": 3
   },
   "file_extension": ".py",
   "mimetype": "text/x-python",
   "name": "python",
   "nbconvert_exporter": "python",
   "pygments_lexer": "ipython3",
   "version": "3.8.10"
  }
 },
 "nbformat": 4,
 "nbformat_minor": 5
}
