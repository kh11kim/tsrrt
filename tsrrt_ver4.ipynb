{
 "cells": [
  {
   "cell_type": "code",
   "execution_count": 9,
   "id": "980f8897-f0c9-498a-a953-374e358be3bc",
   "metadata": {},
   "outputs": [
    {
     "name": "stderr",
     "output_type": "stream",
     "text": [
      "pybullet build time: Oct 11 2021 20:59:39\n"
     ]
    }
   ],
   "source": [
    "from tsrrt.collision import PandaCollision\n",
    "import pybullet as p\n",
    "import pybullet_data\n",
    "import numpy as np\n",
    "from spatial_math_mini import *\n",
    "from collections.abc import Sequence\n",
    "from abc import ABC, abstractmethod\n",
    "#import kdtree\n",
    "import datetime"
   ]
  },
  {
   "cell_type": "code",
   "execution_count": 10,
   "id": "592aa6f0-ceee-46f9-bdd8-674612db3e4d",
   "metadata": {},
   "outputs": [],
   "source": [
    "from tsrrt.data_structure import Node, StateSpace, Tree\n",
    "from tsrrt.util import *"
   ]
  },
  {
   "cell_type": "code",
   "execution_count": 11,
   "id": "f1ad8e57-33ea-48ec-95fd-f04aa1baf338",
   "metadata": {},
   "outputs": [],
   "source": [
    "uid = p.connect(p.GUI)\n",
    "checker = PandaCollision(p, uid)"
   ]
  },
  {
   "cell_type": "code",
   "execution_count": 12,
   "id": "829e3ef0-9fed-4092-9c94-8f8d4b558797",
   "metadata": {},
   "outputs": [],
   "source": [
    "ss = StateSpace(Node)\n",
    "\n",
    "#init\n",
    "checker.set_home_positions()\n",
    "(pos, ori), q = checker.get_ee_pose(), checker.get_arm_positions()\n",
    "start = Node(pos, ori, q)\n",
    "\n",
    "tree = Tree(start, state_space=ss)"
   ]
  },
  {
   "cell_type": "code",
   "execution_count": 15,
   "id": "9ebb38fa-15d8-4698-b13d-5565c965bc6a",
   "metadata": {},
   "outputs": [],
   "source": [
    "ss = StateSpace(NodeTS, checker)\n",
    "#_controller = Controller(NodeTS, checker)\n",
    "\n",
    "#init\n",
    "checker.set_home_positions()\n",
    "(pos, ori), q = checker.get_ee_pose(), checker.get_arm_positions()\n",
    "start = NodeTS(pos, ori, q)\n",
    "_tree = Tree(start)"
   ]
  },
  {
   "cell_type": "code",
   "execution_count": 14,
   "id": "f80b3f01-8f17-4f93-8a07-404d234b035d",
   "metadata": {},
   "outputs": [],
   "source": [
    "class NodeTS():\n",
    "    trans_weight = 5\n",
    "    \n",
    "    def __init__(self, pos, ori, q, m=None):\n",
    "        super().__init__()\n",
    "        self.pos = pos\n",
    "        self.ori = ori\n",
    "        self.q = q\n",
    "        self._m = m\n",
    "        self.idx = None\n",
    "        \n",
    "    def __repr__(self):\n",
    "        return \"pos:{}, ori:{}\".format(self.pos, self.ori)\n",
    "    \n",
    "    def __sub__(self, y):\n",
    "        \"\"\"get twist\"\"\"\n",
    "        SE3_1 = SE3(self.ori, self.pos)\n",
    "        SE3_2 = SE3(y.ori, y.pos)\n",
    "        screw, angle = (SE3_2.inv() @ SE3_1).to_twistangle()\n",
    "        return screw*angle\n",
    "    \n",
    "    @staticmethod\n",
    "    def dist(node1, node2):\n",
    "        twist = node1 - node2\n",
    "        rot_dist = np.linalg.norm(twist[:3])\n",
    "        trans_dist = np.linalg.norm(twist[3:])\n",
    "        return rot_dist + trans_dist * NodeTS.trans_weight\n",
    "        \n",
    "\n",
    "class Tree:\n",
    "    def __init__(self, root):\n",
    "        #init\n",
    "        self._parent_of = {0:None} # parent of 0(root) is None\n",
    "        self._num = 0\n",
    "        self._data = []\n",
    "        self.add(root)\n",
    "    \n",
    "    def add(self, node, parent=None):\n",
    "        node.idx = self._num\n",
    "        self._data.append(node)\n",
    "        if not parent is None:\n",
    "            self._parent_of[node.idx] = parent.idx\n",
    "        self._num += 1\n",
    "    \n",
    "    def nearest(self, node):\n",
    "        distances = [NodeTS.dist(node, n) for n in self._data]\n",
    "        idx = np.argmin(distances)\n",
    "        return self._data[idx]\n",
    "    \n",
    "    def parent(self, node):\n",
    "        assert node.idx is not None\n",
    "        return self._data[self._parent_of[node.idx]]\n",
    "    \n",
    "    def backtrack(self, node_last):\n",
    "        path = [node_last]\n",
    "        child_idx = node_last.idx\n",
    "        while True:\n",
    "            parent_idx = self._parent_of[child_idx]\n",
    "            if parent_idx is None:\n",
    "                break\n",
    "            path.append(self._data[parent_idx])\n",
    "            child_idx = parent_idx\n",
    "        return path[::-1]\n",
    "    \n",
    "class StateSpace:\n",
    "    \"\"\" \n",
    "    state space configuration and random node generator\n",
    "    \"\"\"\n",
    "    pos_ll = [-1, -1, 0]\n",
    "    pos_ul = [1, 1, 1]\n",
    "    q_ll = [-2.9671, -1.8326, -2.9671, -3.1416, -2.9671, -0.0873, -2.9671]\n",
    "    q_ul = [2.9671, 1.8326, 2.9671, 0.0, 2.9671, 3.8223, 2.9671]\n",
    "    q_m = [0.0, 0.0, 0.0, -1.5708, 0.0, 1.8675, 0.0]\n",
    "    q_range = [5.9342, 3.6652, 5.9342, 3.1416, 5.9342, 3.9095999999999997, 5.9342]\n",
    "    eps = 0.01\n",
    "    trans_max = 0.1\n",
    "    rot_max = 0.1\n",
    "    \n",
    "    def __init__(self, node_type, checker):\n",
    "        self._node_class = node_type\n",
    "        self._checker = checker\n",
    "        \n",
    "    @staticmethod\n",
    "    def _get_pos():\n",
    "        pos = np.empty(3)\n",
    "        for i in range(3):\n",
    "            ll, ul = StateSpace.pos_ll[i], StateSpace.pos_ul[i]\n",
    "            pos[i] = np.random.uniform(low=ll, high=ul)\n",
    "        return pos\n",
    "    \n",
    "    @staticmethod\n",
    "    def _get_ori():\n",
    "        return  SO3._uniform_sampling_quaternion()\n",
    "    \n",
    "    @staticmethod\n",
    "    def _get_q():\n",
    "        q = np.empty(7)\n",
    "        for i in range(7):\n",
    "            ll, ul = StateSpace.q_ll[i], StateSpace.q_ul[i]\n",
    "            q[i] = np.random.uniform(low=ll, high=ul)\n",
    "        return q\n",
    "    \n",
    "    def is_valid(self, q):\n",
    "        checker.set_joint_positions(q)\n",
    "        return not checker.is_self_collision()\n",
    "\n",
    "    def random(self, isfree=True):\n",
    "        #get sample in free space by rejection sampling\n",
    "        pos, ori = self._get_pos(), self._get_ori()\n",
    "        _, q = self._checker.IK(pos, ori)\n",
    "        \n",
    "        while True:\n",
    "            #task-space voronoi bias\n",
    "            pos, ori = self._get_pos(), self._get_ori()\n",
    "            _, q = self._checker.IK(pos, ori)\n",
    "            self._checker.set_joint_positions(q)\n",
    "            pos, ori = self._checker.get_ee_pose()\n",
    "            is_collision = self._checker.is_self_collision()\n",
    "            if not is_collision:\n",
    "                node_new = self._node_class(pos, ori, q)\n",
    "                break\n",
    "        node_new = self._node_class(pos, ori, q)\n",
    "        return node_new"
   ]
  },
  {
   "cell_type": "code",
   "execution_count": 16,
   "id": "4c94d996-6b42-417a-be19-0a5dbc73d76b",
   "metadata": {},
   "outputs": [],
   "source": [
    "class Controller:\n",
    "    trans_max = 0.1\n",
    "    rot_max = 0.1\n",
    "    manipulability_max = 1000\n",
    "    \n",
    "    def __init__(self, node_type, checker):\n",
    "        self._node_class = node_type\n",
    "        self._checker = checker\n",
    "        \n",
    "    @staticmethod\n",
    "    def crop_within_limits(twist):\n",
    "        trans_ratio = np.linalg.norm(twist[:3])/Controller.trans_max\n",
    "        rot_ratio = np.linalg.norm(twist[3:])/Controller.rot_max\n",
    "        if (trans_ratio < 1) & (rot_ratio < 1):\n",
    "            return twist\n",
    "        elif trans_ratio > rot_ratio:\n",
    "            return twist/trans_ratio\n",
    "        else:\n",
    "            return twist/rot_ratio\n",
    "    \n",
    "    def clamp_max(self, qs, qmax):\n",
    "        result = []\n",
    "        mag = np.linalg.norm(qs)\n",
    "        if mag < qmax:\n",
    "            return qs\n",
    "        else:\n",
    "            return qmax * qs/mag\n",
    "    \n",
    "    def clamp_max_abs(self, qs, qmax):\n",
    "        result = []\n",
    "        mag = np.linalg.norm(qs,1)\n",
    "        if mag < qmax:\n",
    "            return qs\n",
    "        else:\n",
    "            return qmax * qs/mag\n",
    "        \n",
    "    def control(self, node1, node2):\n",
    "        diff = node2 - node1\n",
    "        jac = self._checker.get_body_jacobian(node1.q)\n",
    "        #jac_pinv = np.linalg.pinv(jac)\n",
    "        #null_proj = np.eye(7) - jac_pinv@jac\n",
    "        #damped least square\n",
    "        U, s, VT = np.linalg.svd(jac)\n",
    "        damping = 0.1\n",
    "        dls = np.zeros((7,6))\n",
    "        for i in range(6):\n",
    "            u, v = U[:,i], VT[i,:]\n",
    "            dls += s[i]/(s[i]**2+damping**2) * np.outer(v, u)\n",
    "        manipulability = s[0] / s[-1]\n",
    "        # print(np.linalg.norm(null_proj))\n",
    "        # print(null_proj @ (node2.q - node1.q))\n",
    "        q_delta = dls @ diff  # + null_proj @ (StateSpace.q_m - node1.q)\n",
    "        q_new = self.clamp_max(q_delta, 0.2) + node1.q\n",
    "        pos, ori = self._checker.FK(q_new)\n",
    "        is_stop_cond = manipulability > self.manipulability_max\n",
    "        return False, self._node_class(pos, ori, q_new, manipulability)"
   ]
  },
  {
   "cell_type": "code",
   "execution_count": 17,
   "id": "bebda8b0-629d-434e-b700-5ca56ad3a0b6",
   "metadata": {},
   "outputs": [],
   "source": [
    "import numpy as np"
   ]
  },
  {
   "cell_type": "code",
   "execution_count": 8,
   "id": "0d8f1853-6404-4065-8163-ecee0d3ae7b3",
   "metadata": {},
   "outputs": [
    {
     "data": {
      "text/plain": [
       "5.0"
      ]
     },
     "execution_count": 8,
     "metadata": {},
     "output_type": "execute_result"
    }
   ],
   "source": [
    "np.linalg.norm([1,2,3,4,-5],np.inf)"
   ]
  },
  {
   "cell_type": "code",
   "execution_count": 5,
   "id": "b649fbe9-2b68-4057-8307-8d9d0b5d8951",
   "metadata": {},
   "outputs": [],
   "source": [
    "uid = p.connect(p.GUI)\n",
    "checker = PandaCollision(p, uid)"
   ]
  },
  {
   "cell_type": "code",
   "execution_count": 18,
   "id": "041d0da1-a274-49d0-aba4-a3dd09cc3ca7",
   "metadata": {},
   "outputs": [],
   "source": [
    "_statespace = StateSpace(NodeTS, checker)\n",
    "_controller = Controller(NodeTS, checker)\n",
    "\n",
    "#init\n",
    "checker.set_home_positions()\n",
    "(pos, ori), q = checker.get_ee_pose(), checker.get_arm_positions()\n",
    "start = NodeTS(pos, ori, q)\n",
    "_tree = Tree(start)"
   ]
  },
  {
   "cell_type": "code",
   "execution_count": 19,
   "id": "6513a701-2a72-4910-b32b-2f643d5af649",
   "metadata": {},
   "outputs": [
    {
     "data": {
      "text/plain": [
       "False"
      ]
     },
     "execution_count": 19,
     "metadata": {},
     "output_type": "execute_result"
    }
   ],
   "source": [
    "goal = _statespace.random()\n",
    "view_pose(goal.pos, goal.ori)\n",
    "checker.set_joint_positions(goal.q)\n",
    "checker.is_self_collision()"
   ]
  },
  {
   "cell_type": "code",
   "execution_count": 294,
   "id": "aa2680af-357b-445a-ad7e-a84ba8bc62c2",
   "metadata": {},
   "outputs": [],
   "source": [
    "clear()"
   ]
  },
  {
   "cell_type": "code",
   "execution_count": 20,
   "id": "223553b3-d523-4e78-9796-6afaf948c6c6",
   "metadata": {},
   "outputs": [],
   "source": [
    "import time\n",
    "import copy\n",
    "def extend(node_rand):\n",
    "    global _last_node\n",
    "    node_near = _tree.nearest(node_rand)\n",
    "    view_pose(node_rand.pos, node_rand.ori)\n",
    "    parent = node_near\n",
    "    is_stop, node_new = _controller.control(parent, node_rand)\n",
    "    dist = NodeTS.dist(node_rand, node_new)\n",
    "    curr_dist = dist\n",
    "    while True:\n",
    "        curr_dist = NodeTS.dist(node_rand, node_new)\n",
    "        is_not_valid = not _statespace.is_valid(node_new.q)\n",
    "        is_threshold = (dist - curr_dist) >=  0.5\n",
    "        is_arrived = curr_dist <=  _statespace.eps\n",
    "        is_goal = NodeTS.dist(_goal, node_new) <= _statespace.eps\n",
    "        #print(is_goal, NodeTS.distance(_goal, node_new), is_not_valid, is_stop)\n",
    "        print(\"dist:{}, curr_dist:{}\".format(dist, curr_dist))\n",
    "        if is_not_valid | is_stop:\n",
    "            print(\"is not valid\")\n",
    "            return #break\n",
    "        checker.set_joint_positions(node_new.q)#######################################################\n",
    "        _tree.add(node_new, parent)\n",
    "        \n",
    "        if is_goal:\n",
    "            print(node_new)\n",
    "            _last_node = copy.deepcopy(node_new)\n",
    "            print(\"goal found\")\n",
    "            return #break\n",
    "        \n",
    "        if is_arrived | is_threshold:\n",
    "            print(\"arrived\")\n",
    "            return \n",
    "        \n",
    "\n",
    "        parent = node_new\n",
    "        is_stop, node_new = _controller.control(parent, node_rand)\n",
    "        time.sleep(0.2)\n",
    "\n",
    "def is_goal():\n",
    "    return _last_node is not None\n",
    "\n",
    "global _last_node\n",
    "_last_node = None\n",
    "_goal = goal"
   ]
  },
  {
   "cell_type": "code",
   "execution_count": 28,
   "id": "d97ee93e-ca53-44b1-9b2e-37f08bf2f0e8",
   "metadata": {},
   "outputs": [],
   "source": [
    "clear()"
   ]
  },
  {
   "cell_type": "code",
   "execution_count": 21,
   "id": "545af39c-7bb6-42b1-bc9e-74d962df71a3",
   "metadata": {},
   "outputs": [
    {
     "name": "stdout",
     "output_type": "stream",
     "text": [
      "dist:4.240099992336301, curr_dist:4.240099992336301\n",
      "dist:4.240099992336301, curr_dist:4.16814844961332\n",
      "dist:4.240099992336301, curr_dist:4.156199895141877\n",
      "dist:4.240099992336301, curr_dist:4.18560018188562\n",
      "dist:4.240099992336301, curr_dist:4.239298984921557\n",
      "dist:4.240099992336301, curr_dist:4.303391172349409\n",
      "dist:4.240099992336301, curr_dist:4.366730305718512\n",
      "dist:4.240099992336301, curr_dist:4.4198720165339465\n",
      "dist:4.240099992336301, curr_dist:4.454112324346108\n",
      "dist:4.240099992336301, curr_dist:4.460796007265726\n",
      "dist:4.240099992336301, curr_dist:4.430667066740422\n",
      "dist:4.240099992336301, curr_dist:4.35303308059442\n",
      "dist:4.240099992336301, curr_dist:4.214954466580131\n",
      "dist:4.240099992336301, curr_dist:4.002332414872711\n",
      "dist:4.240099992336301, curr_dist:3.7095878003559863\n",
      "arrived\n"
     ]
    }
   ],
   "source": [
    "if _last_node is None:\n",
    "    if np.random.random() > 1:\n",
    "        node_rand = _statespace.random(isfree=False)\n",
    "    else:\n",
    "        node_rand = _goal\n",
    "    #view_pose(node_rand.pos, node_rand.ori)##########################################3\n",
    "    extend(node_rand)"
   ]
  },
  {
   "cell_type": "code",
   "execution_count": 14,
   "id": "5f481fe9-512f-423a-b9cf-c24438bd80e9",
   "metadata": {},
   "outputs": [],
   "source": [
    "path = _tree.backtrack(_last_node)"
   ]
  },
  {
   "cell_type": "code",
   "execution_count": 232,
   "id": "b81bc560-3ec7-422a-8950-7fef97329cd6",
   "metadata": {},
   "outputs": [],
   "source": [
    "i = 0"
   ]
  },
  {
   "cell_type": "code",
   "execution_count": 293,
   "id": "82aee130-d137-4965-a176-7e434556f1d6",
   "metadata": {},
   "outputs": [],
   "source": [
    "i += 1\n",
    "checker.set_joint_positions(path[i].q)"
   ]
  },
  {
   "cell_type": "markdown",
   "id": "d55e7f84-6475-452d-96ea-58757cc6c02a",
   "metadata": {},
   "source": [
    "### Debug"
   ]
  },
  {
   "cell_type": "code",
   "execution_count": 96,
   "id": "d0cbc9aa-32eb-487c-9e54-69794b5ca6c4",
   "metadata": {},
   "outputs": [],
   "source": [
    "node1 = start\n",
    "node2 = goal"
   ]
  },
  {
   "cell_type": "code",
   "execution_count": 103,
   "id": "1d2cb8d3-6ca7-45d0-ae60-20f808f7d7dc",
   "metadata": {},
   "outputs": [],
   "source": [
    "np.savetxt(\"start_pos\",node1.pos)\n",
    "np.savetxt(\"start_ori\",node1.ori)\n",
    "np.savetxt(\"goal_pos\",node2.pos)\n",
    "np.savetxt(\"goal_ori\",node2.ori)"
   ]
  },
  {
   "cell_type": "code",
   "execution_count": 105,
   "id": "1f88e301-edd2-4a87-97b5-a325da048c99",
   "metadata": {},
   "outputs": [
    {
     "data": {
      "text/plain": [
       "array([-1.14723403,  1.52757014, -0.40919282,  0.03224844,  0.47263063,\n",
       "       -0.11216937])"
      ]
     },
     "execution_count": 105,
     "metadata": {},
     "output_type": "execute_result"
    }
   ],
   "source": [
    "diff = node2 - node1\n",
    "diff"
   ]
  },
  {
   "cell_type": "code",
   "execution_count": 109,
   "id": "4bb39233-3378-4ea4-9187-437400fa0d42",
   "metadata": {},
   "outputs": [],
   "source": [
    "jac = checker.get_body_jacobian(node1.q)\n",
    "U, s, VT = np.linalg.svd(jac)\n",
    "damping = 0.1\n",
    "dls = np.zeros((7,6))\n",
    "for i in range(6):\n",
    "    u, v = U[:,i], VT[i,:]\n",
    "    dls += s[i]/(s[i]**2+damping**2) * np.outer(v, u)"
   ]
  },
  {
   "cell_type": "code",
   "execution_count": 115,
   "id": "764923db-c880-4757-9f56-e917b8bf2f57",
   "metadata": {},
   "outputs": [
    {
     "data": {
      "text/plain": [
       "array([[ 2.54906155e-01, -6.32427510e-12,  4.38964523e-01,\n",
       "         2.60651818e-12, -8.37252738e-01, -1.18177271e-11],\n",
       "       [ 1.17135052e-12,  6.45322684e-01,  1.91936648e-11,\n",
       "         2.59545111e+00,  2.60173273e-12, -2.52085801e-01],\n",
       "       [ 2.54906155e-01, -3.57307311e-12,  4.38964523e-01,\n",
       "        -2.87588352e-11, -8.37252738e-01,  7.00959608e-12],\n",
       "       [ 1.21274957e-11, -5.84605995e-01,  1.05173734e-11,\n",
       "         2.80648416e+00,  2.15725641e-11, -2.41129034e+00],\n",
       "       [ 9.85968831e-01,  2.75901790e-13, -1.24953998e-02,\n",
       "        -5.92856290e-13,  1.35657902e-02,  1.05444025e-12],\n",
       "       [-1.96383128e-11,  2.16527710e+00,  3.51532322e-13,\n",
       "        -1.93261605e-01, -2.62216159e-12,  2.08377492e+00],\n",
       "       [ 4.97316911e-01, -7.94114660e-12,  1.83680333e+00,\n",
       "        -1.72818965e-12, -1.63346367e+00, -6.24302337e-12]])"
      ]
     },
     "execution_count": 115,
     "metadata": {},
     "output_type": "execute_result"
    }
   ],
   "source": [
    "dls"
   ]
  },
  {
   "cell_type": "code",
   "execution_count": 116,
   "id": "356032d6-c1c5-4b9e-8663-1c9ac1cd36a1",
   "metadata": {},
   "outputs": [
    {
     "data": {
      "text/plain": [
       "array([-1.14723403,  1.52757014, -0.40919282,  0.03224844,  0.47263063,\n",
       "       -0.11216937])"
      ]
     },
     "execution_count": 116,
     "metadata": {},
     "output_type": "execute_result"
    }
   ],
   "source": [
    "diff"
   ]
  },
  {
   "cell_type": "code",
   "execution_count": 111,
   "id": "de698c6b-6835-426e-90ef-ccdd4a637243",
   "metadata": {},
   "outputs": [
    {
     "data": {
      "text/plain": [
       "0.1"
      ]
     },
     "execution_count": 111,
     "metadata": {},
     "output_type": "execute_result"
    }
   ],
   "source": [
    "damping"
   ]
  },
  {
   "cell_type": "code",
   "execution_count": 117,
   "id": "c8ab8fe8-690b-40aa-b423-2b7efd4a1768",
   "metadata": {},
   "outputs": [
    {
     "data": {
      "text/plain": [
       "array([-0.86776944,  1.09775121, -0.86776944, -0.53204901, -1.11961236,\n",
       "        3.06764453, -2.09417059])"
      ]
     },
     "execution_count": 117,
     "metadata": {},
     "output_type": "execute_result"
    }
   ],
   "source": [
    "dls@diff"
   ]
  },
  {
   "cell_type": "code",
   "execution_count": 113,
   "id": "3fe8e0ef-794d-43a4-bd83-fa35b3b29fe4",
   "metadata": {},
   "outputs": [
    {
     "data": {
      "text/plain": [
       "array([-0.86776944,  1.09775121, -0.86776944, -0.53204901, -1.11961236,\n",
       "        3.06764453, -2.09417059])"
      ]
     },
     "execution_count": 113,
     "metadata": {},
     "output_type": "execute_result"
    }
   ],
   "source": [
    "q_delta = dls @ diff\n",
    "q_delta"
   ]
  },
  {
   "cell_type": "code",
   "execution_count": null,
   "id": "03fe27b5-c942-453f-96eb-914d7cec1d22",
   "metadata": {},
   "outputs": [],
   "source": [
    "diff = node2 - node1\n",
    "jac = self._checker.get_body_jacobian(node1.q)\n",
    "#jac_pinv = np.linalg.pinv(jac)\n",
    "#null_proj = np.eye(7) - jac_pinv@jac\n",
    "#damped least square\n",
    "U, s, VT = np.linalg.svd(jac)\n",
    "damping = 0.1\n",
    "dls = np.zeros((7,6))\n",
    "for i in range(6):\n",
    "    u, v = U[:,i], VT[i,:]\n",
    "    dls += s[i]/(s[i]**2+damping**2) * np.outer(v, u)\n",
    "manipulability = s[0] / s[-1]\n",
    "# print(np.linalg.norm(null_proj))\n",
    "# print(null_proj @ (node2.q - node1.q))\n",
    "q_delta = dls @ diff  # + null_proj @ (StateSpace.q_m - node1.q)\n",
    "q_new = self.clamp_max(q_delta, 0.2) + node1.q\n",
    "pos, ori = self._checker.FK(q_new)\n",
    "is_stop_cond = manipulability > self.manipulability_max\n",
    "return False, self._node_class(pos, ori, q_new, manipulability)"
   ]
  },
  {
   "cell_type": "code",
   "execution_count": null,
   "id": "8f5f27ba-f373-4758-afa2-c70e42159818",
   "metadata": {},
   "outputs": [],
   "source": []
  },
  {
   "cell_type": "code",
   "execution_count": 50,
   "id": "a4f489a3-1d30-4999-9c3b-53f9e290b1be",
   "metadata": {},
   "outputs": [],
   "source": [
    "is_stop, node = _controller.control(start, goal)\n",
    "checker.set_joint_positions(node.q)"
   ]
  },
  {
   "cell_type": "code",
   "execution_count": 95,
   "id": "55bfd7f6-d225-43aa-b02a-cd63101563bf",
   "metadata": {},
   "outputs": [
    {
     "name": "stdout",
     "output_type": "stream",
     "text": [
      "2.969510630345833e-09\n",
      "1.3821927579230495\n"
     ]
    }
   ],
   "source": [
    "if not is_stop:\n",
    "    success, node = _controller.control(node, goal)\n",
    "    print(NodeTS.dist(goal, node))\n",
    "    print(np.linalg.norm(goal.q - node.q))\n",
    "checker.set_joint_positions(node.q)"
   ]
  },
  {
   "cell_type": "code",
   "execution_count": 48,
   "id": "8a438231-321c-4091-97d9-b370ff94f466",
   "metadata": {},
   "outputs": [],
   "source": [
    "ss = StateSpace(NodeTS, checker)"
   ]
  },
  {
   "cell_type": "code",
   "execution_count": 82,
   "id": "5f89d1c1-5bbd-4167-a4a4-756bde304015",
   "metadata": {},
   "outputs": [],
   "source": [
    "start = ss.random()\n",
    "tree = Tree(start)"
   ]
  },
  {
   "cell_type": "code",
   "execution_count": 126,
   "id": "907e48fd-2b9d-4139-a826-e137f6ea14b7",
   "metadata": {},
   "outputs": [],
   "source": [
    "for i in range(1000):\n",
    "    tree.add(ss.random(), parent=start)"
   ]
  },
  {
   "cell_type": "code",
   "execution_count": 142,
   "id": "9153e61d-8b96-4866-a461-807eac354276",
   "metadata": {},
   "outputs": [],
   "source": [
    "node_rand = ss.random()\n",
    "nn = tree.nearest(node_rand)\n",
    "checker.set_joint_positions(nn.q)\n"
   ]
  },
  {
   "cell_type": "code",
   "execution_count": 143,
   "id": "daee0b54-ad72-4ce8-a777-8d871c3c36ec",
   "metadata": {},
   "outputs": [],
   "source": [
    "checker.set_joint_positions(node_rand.q)"
   ]
  },
  {
   "cell_type": "code",
   "execution_count": null,
   "id": "694edffd-c549-4cdb-936c-644cac7c7478",
   "metadata": {},
   "outputs": [],
   "source": [
    "start = tree.add()"
   ]
  },
  {
   "cell_type": "code",
   "execution_count": null,
   "id": "28a77173-015b-4758-802a-ef9171462c2b",
   "metadata": {},
   "outputs": [],
   "source": []
  }
 ],
 "metadata": {
  "kernelspec": {
   "display_name": "Python 3 (ipykernel)",
   "language": "python",
   "name": "python3"
  },
  "language_info": {
   "codemirror_mode": {
    "name": "ipython",
    "version": 3
   },
   "file_extension": ".py",
   "mimetype": "text/x-python",
   "name": "python",
   "nbconvert_exporter": "python",
   "pygments_lexer": "ipython3",
   "version": "3.8.10"
  }
 },
 "nbformat": 4,
 "nbformat_minor": 5
}
