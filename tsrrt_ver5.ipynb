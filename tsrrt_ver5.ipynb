{
 "cells": [
  {
   "cell_type": "code",
   "execution_count": 1,
   "id": "2133add0-956d-47fa-9a7d-ed9d2be8f77d",
   "metadata": {},
   "outputs": [
    {
     "name": "stderr",
     "output_type": "stream",
     "text": [
      "pybullet build time: Oct 11 2021 20:59:39\n"
     ]
    }
   ],
   "source": [
    "from tsrrt.collision import PandaCollision\n",
    "import pybullet as p\n",
    "import pybullet_data\n",
    "import numpy as np\n",
    "from spatial_math_mini import *\n",
    "from collections.abc import Sequence\n",
    "from abc import ABC, abstractmethod\n",
    "import datetime\n",
    "\n",
    "#local\n",
    "from tsrrt.data_structure import Node, StateSpace, Tree\n",
    "from tsrrt.util import *\n",
    "from tsrrt.RRT import RRT"
   ]
  },
  {
   "cell_type": "code",
   "execution_count": 2,
   "id": "b6c10e4e-2126-427a-89e2-0e318cc86657",
   "metadata": {},
   "outputs": [],
   "source": [
    "uid = p.connect(p.GUI)\n",
    "checker = PandaCollision(p, uid)"
   ]
  },
  {
   "cell_type": "code",
   "execution_count": 3,
   "id": "ec1c03b9-57f6-40f0-b608-fe894f13769b",
   "metadata": {},
   "outputs": [],
   "source": [
    "pos_ll = [-1, -1, 0]\n",
    "pos_ul = [1, 1, 1]\n",
    "goal_pos = [0.5, 0.5, 0.3]\n",
    "pos = np.empty(3)\n",
    "for i in range(3):\n",
    "    pos[i] = np.random.normal(loc=goal_pos[i], scale=(pos_ul[i]-pos_ll[i])/4)"
   ]
  },
  {
   "cell_type": "code",
   "execution_count": 4,
   "id": "02fe3ef0-808a-4608-8d8a-2f19b94523da",
   "metadata": {},
   "outputs": [],
   "source": [
    "ss = StateSpace(Node)\n",
    "\n",
    "#init\n",
    "checker.set_home_positions()\n",
    "(pos, ori), q = checker.get_ee_pose(), checker.get_arm_positions()\n",
    "start = Node(pos, ori, q)\n",
    "tree = Tree(start, state_space=ss)"
   ]
  },
  {
   "cell_type": "markdown",
   "id": "8b06fdf4-a3a9-4109-a22d-a3d4dea13fef",
   "metadata": {
    "tags": []
   },
   "source": [
    "### test control"
   ]
  },
  {
   "cell_type": "code",
   "execution_count": 5,
   "id": "c0eb661b-17f7-4be7-b000-420b463d89d6",
   "metadata": {},
   "outputs": [],
   "source": [
    "goal = ss.random()"
   ]
  },
  {
   "cell_type": "code",
   "execution_count": 6,
   "id": "96e13e49-f970-413e-8759-5f1cc2e7c87b",
   "metadata": {},
   "outputs": [],
   "source": [
    "rrt = RRT(start, goal, checker, bias=\"normal\", debug=True)"
   ]
  },
  {
   "cell_type": "code",
   "execution_count": 7,
   "id": "54dd68e4-5d9c-4502-9098-ccb0d1e66a11",
   "metadata": {},
   "outputs": [],
   "source": [
    "goal = rrt.sample_free_space()\n",
    "rrt._goal = goal\n",
    "view_node(goal, color=\"r\")"
   ]
  },
  {
   "cell_type": "code",
   "execution_count": 8,
   "id": "d2a109bf-7de8-4771-9909-cd133fe75232",
   "metadata": {},
   "outputs": [
    {
     "name": "stdout",
     "output_type": "stream",
     "text": [
      "goal!\n"
     ]
    }
   ],
   "source": [
    "success, plan = rrt.plan()"
   ]
  },
  {
   "cell_type": "code",
   "execution_count": 9,
   "id": "134fb108-3ddf-4438-b1e2-e34a456dd900",
   "metadata": {},
   "outputs": [
    {
     "data": {
      "text/plain": [
       "151"
      ]
     },
     "execution_count": 9,
     "metadata": {},
     "output_type": "execute_result"
    }
   ],
   "source": [
    "rrt._tree._num"
   ]
  },
  {
   "cell_type": "code",
   "execution_count": 151,
   "id": "9b873f40-28ac-4473-a2a8-89facd09a94b",
   "metadata": {},
   "outputs": [],
   "source": [
    "i=0"
   ]
  },
  {
   "cell_type": "code",
   "execution_count": 186,
   "id": "70e8d68d-4ddc-415e-8642-279d25ae9dd1",
   "metadata": {},
   "outputs": [
    {
     "ename": "IndexError",
     "evalue": "list index out of range",
     "output_type": "error",
     "traceback": [
      "\u001b[0;31m---------------------------------------------------------------------------\u001b[0m",
      "\u001b[0;31mIndexError\u001b[0m                                Traceback (most recent call last)",
      "\u001b[0;32m/tmp/ipykernel_10627/2146129342.py\u001b[0m in \u001b[0;36m<module>\u001b[0;34m\u001b[0m\n\u001b[1;32m      1\u001b[0m \u001b[0mi\u001b[0m \u001b[0;34m+=\u001b[0m \u001b[0;36m1\u001b[0m\u001b[0;34m\u001b[0m\u001b[0;34m\u001b[0m\u001b[0m\n\u001b[0;32m----> 2\u001b[0;31m \u001b[0mchecker\u001b[0m\u001b[0;34m.\u001b[0m\u001b[0mset_joint_positions\u001b[0m\u001b[0;34m(\u001b[0m\u001b[0mplan\u001b[0m\u001b[0;34m[\u001b[0m\u001b[0mi\u001b[0m\u001b[0;34m]\u001b[0m\u001b[0;34m.\u001b[0m\u001b[0mq\u001b[0m\u001b[0;34m)\u001b[0m\u001b[0;34m\u001b[0m\u001b[0;34m\u001b[0m\u001b[0m\n\u001b[0m",
      "\u001b[0;31mIndexError\u001b[0m: list index out of range"
     ]
    }
   ],
   "source": [
    "i += 1\n",
    "checker.set_joint_positions(plan[i].q)"
   ]
  },
  {
   "cell_type": "code",
   "execution_count": null,
   "id": "cfeb771d-5f96-4c04-be49-87171d7dc004",
   "metadata": {},
   "outputs": [],
   "source": []
  },
  {
   "cell_type": "code",
   "execution_count": 111,
   "id": "132a403d-66b4-45f0-a3a6-b1bb1a63538f",
   "metadata": {},
   "outputs": [],
   "source": [
    "pos = [p.pos for p in plan]\n",
    "ori = [p.ori for p in plan]"
   ]
  },
  {
   "cell_type": "code",
   "execution_count": 113,
   "id": "2350f2af-1b1d-4d25-9be3-604b962d94a1",
   "metadata": {},
   "outputs": [
    {
     "data": {
      "text/plain": [
       "[array([ 5.54500000e-01, -3.21955792e-12,  5.19500000e-01]),\n",
       " array([ 0.52305618, -0.02851684,  0.39818893]),\n",
       " array([0.53623008, 0.07809318, 0.51531339]),\n",
       " array([0.5043065 , 0.04709864, 0.39777575]),\n",
       " array([0.54313713, 0.16395044, 0.4493312 ]),\n",
       " array([0.45947188, 0.01171518, 0.29299795]),\n",
       " array([ 0.39111437, -0.05987364,  0.24862254]),\n",
       " array([0.36586533, 0.0500737 , 0.30076289]),\n",
       " array([0.32432457, 0.03998683, 0.24277977]),\n",
       " array([0.33599836, 0.10209956, 0.27231453]),\n",
       " array([0.27242628, 0.1753539 , 0.22107631]),\n",
       " array([0.20011648, 0.15230781, 0.18453188]),\n",
       " array([0.17817987, 0.24925906, 0.25295769]),\n",
       " array([0.16628472, 0.33653309, 0.33826698]),\n",
       " array([0.11986903, 0.30741043, 0.25107547]),\n",
       " array([0.0558843 , 0.48251962, 0.58003019]),\n",
       " array([0.02270765, 0.48519216, 0.55809947]),\n",
       " array([0.16044241, 0.49878542, 0.61975167]),\n",
       " array([0.16160608, 0.50668433, 0.54768082]),\n",
       " array([0.08897719, 0.48811269, 0.53106922]),\n",
       " array([0.15281549, 0.53195701, 0.4546764 ]),\n",
       " array([0.10277926, 0.57517275, 0.40239132]),\n",
       " array([0.05190352, 0.54133562, 0.37795265]),\n",
       " array([-0.00265013,  0.58261513,  0.38365778]),\n",
       " array([-0.08011901,  0.55235297,  0.41514705]),\n",
       " array([-0.08655391,  0.54520091,  0.33550234]),\n",
       " array([-0.15975419,  0.54212126,  0.24508529]),\n",
       " array([-0.12501483,  0.62004769,  0.20326313]),\n",
       " array([-0.23786015,  0.64664231,  0.24775604]),\n",
       " array([-0.15589791,  0.69680477,  0.21736943]),\n",
       " array([-0.20903971,  0.67584317,  0.06797479]),\n",
       " array([-0.11187674,  0.77781284,  0.00322953]),\n",
       " array([-0.17545144,  0.8038185 ,  0.00634425]),\n",
       " array([-0.14616457,  0.76513289,  0.04644538]),\n",
       " array([-0.12391397,  0.72778156,  0.08275932])]"
      ]
     },
     "execution_count": 113,
     "metadata": {},
     "output_type": "execute_result"
    }
   ],
   "source": [
    "pos"
   ]
  },
  {
   "cell_type": "code",
   "execution_count": null,
   "id": "d494f2a7-55d2-4e60-8fb2-ef64cd79a7e7",
   "metadata": {},
   "outputs": [],
   "source": []
  },
  {
   "cell_type": "code",
   "execution_count": 17,
   "id": "475e18ba-6af4-4708-856f-60587354e269",
   "metadata": {},
   "outputs": [
    {
     "name": "stdout",
     "output_type": "stream",
     "text": [
      "dist:0.023245002251242666, curr:0.019042754335967832\n",
      "dist:0.023245002251242666, curr:0.01561377009946651\n",
      "dist:0.023245002251242666, curr:0.01281404214903025\n",
      "dist:0.023245002251242666, curr:0.010526422050576365\n",
      "dist:0.023245002251242666, curr:0.008655720596282923\n",
      "dist:0.023245002251242666, curr:0.007124622567633395\n",
      "dist:0.023245002251242666, curr:0.005870330045603882\n",
      "dist:0.023245002251242666, curr:0.004841823397040523\n",
      "dist:0.023245002251242666, curr:0.003997634421956747\n",
      "dist:0.023245002251242666, curr:0.003304039621493834\n",
      "dist:0.023245002251242666, curr:0.0027335960553265667\n",
      "dist:0.023245002251242666, curr:0.002263955579507995\n",
      "dist:0.023245002251242666, curr:0.0018769047920908588\n",
      "dist:0.023245002251242666, curr:0.001557587728438294\n",
      "dist:0.023245002251242666, curr:0.0012938764027691937\n",
      "dist:0.023245002251242666, curr:0.00107586090631307\n",
      "dist:0.023245002251242666, curr:0.0008954361707611535\n",
      "dist:0.023245002251242666, curr:0.0007459668926179393\n",
      "dist:0.023245002251242666, curr:0.0006220156690324997\n",
      "dist:0.023245002251242666, curr:0.0005191222737439362\n",
      "dist:0.023245002251242666, curr:0.0004336243231008261\n",
      "dist:0.023245002251242666, curr:0.0003625114598419328\n",
      "dist:0.023245002251242666, curr:0.0003033066946718536\n",
      "dist:0.023245002251242666, curr:0.00025396976755522066\n",
      "dist:0.023245002251242666, curr:0.0002128183735286173\n",
      "dist:0.023245002251242666, curr:0.000178463893743881\n",
      "dist:0.023245002251242666, curr:0.00014975891319331643\n",
      "dist:0.023245002251242666, curr:0.00012575432185948793\n",
      "dist:0.023245002251242666, curr:0.00010566421806423846\n",
      "dist:0.023245002251242666, curr:8.883716355952773e-05\n",
      "dist:0.023245002251242666, curr:7.473262079642177e-05\n",
      "dist:0.023245002251242666, curr:6.290161528401704e-05\n",
      "dist:0.023245002251242666, curr:5.297085213604658e-05\n",
      "dist:0.023245002251242666, curr:4.4629653155800796e-05\n",
      "dist:0.023245002251242666, curr:3.761920377673641e-05\n",
      "dist:0.023245002251242666, curr:3.172369286175026e-05\n",
      "dist:0.023245002251242666, curr:2.6763003175726247e-05\n",
      "dist:0.023245002251242666, curr:2.2586670685901727e-05\n",
      "dist:0.023245002251242666, curr:1.906889854306446e-05\n",
      "dist:0.023245002251242666, curr:1.6104424645221798e-05\n",
      "dist:0.023245002251242666, curr:1.3605097680825384e-05\n",
      "dist:0.023245002251242666, curr:1.149704025676045e-05\n",
      "dist:0.023245002251242666, curr:9.718290773169439e-06\n",
      "dist:0.023245002251242666, curr:8.216846522120692e-06\n",
      "dist:0.023245002251242666, curr:6.949029980671951e-06\n",
      "dist:0.023245002251242666, curr:5.878139528934106e-06\n",
      "dist:0.023245002251242666, curr:3.160260026492305e-06\n",
      "dist:0.023245002251242666, curr:1.2342684984680652e-06\n",
      "dist:0.023245002251242666, curr:4.984356027867021e-07\n",
      "dist:0.023245002251242666, curr:2.1188462579252247e-07\n",
      "dist:0.023245002251242666, curr:9.635536374615558e-08\n",
      "dist:0.023245002251242666, curr:4.707362590541402e-08\n",
      "dist:0.023245002251242666, curr:2.4439668064322914e-08\n",
      "dist:0.023245002251242666, curr:1.324424999142383e-08\n",
      "dist:0.023245002251242666, curr:7.3728861449766126e-09\n",
      "dist:0.023245002251242666, curr:4.171202089445262e-09\n",
      "dist:0.023245002251242666, curr:2.383399151581219e-09\n",
      "dist:0.023245002251242666, curr:1.3711063096448065e-09\n",
      "dist:0.023245002251242666, curr:7.933054799747761e-10\n",
      "dist:0.023245002251242666, curr:4.6211758788229363e-10\n",
      "dist:0.023245002251242666, curr:2.721403072178846e-10\n",
      "dist:0.023245002251242666, curr:1.6365683933793148e-10\n",
      "dist:0.023245002251242666, curr:1.026592272566408e-10\n",
      "dist:0.023245002251242666, curr:6.95871595380717e-11\n",
      "dist:0.023245002251242666, curr:5.275028553238367e-11\n",
      "dist:0.023245002251242666, curr:4.476734713768838e-11\n",
      "dist:0.023245002251242666, curr:4.113335113574366e-11\n",
      "dist:0.023245002251242666, curr:3.946692943820351e-11\n",
      "dist:0.023245002251242666, curr:3.867054680299195e-11\n",
      "dist:0.023245002251242666, curr:3.827022121503539e-11\n",
      "dist:0.023245002251242666, curr:3.805932038152938e-11\n",
      "dist:0.023245002251242666, curr:3.794416552245573e-11\n",
      "dist:0.023245002251242666, curr:3.78800071036594e-11\n",
      "dist:0.023245002251242666, curr:3.7843867400732816e-11\n",
      "dist:0.023245002251242666, curr:3.7822752688116505e-11\n",
      "dist:0.023245002251242666, curr:3.78109981332536e-11\n",
      "dist:0.023245002251242666, curr:3.780394876258133e-11\n",
      "dist:0.023245002251242666, curr:3.7799851616795165e-11\n",
      "dist:0.023245002251242666, curr:3.779745703977325e-11\n",
      "dist:0.023245002251242666, curr:3.7796030697376746e-11\n",
      "dist:0.023245002251242666, curr:3.7795183865966956e-11\n",
      "dist:0.023245002251242666, curr:3.779467402058669e-11\n",
      "dist:0.023245002251242666, curr:3.779435501081673e-11\n",
      "dist:0.023245002251242666, curr:3.779410502359344e-11\n",
      "dist:0.023245002251242666, curr:3.779403083995794e-11\n",
      "dist:0.023245002251242666, curr:3.779361630212863e-11\n",
      "dist:0.023245002251242666, curr:3.7793493418075396e-11\n",
      "dist:0.023245002251242666, curr:3.7793583716375685e-11\n",
      "dist:0.023245002251242666, curr:3.779335760875267e-11\n",
      "dist:0.023245002251242666, curr:3.779332253027287e-11\n",
      "dist:0.023245002251242666, curr:3.779314317266424e-11\n",
      "dist:0.023245002251242666, curr:3.7793115326802886e-11\n",
      "dist:0.023245002251242666, curr:3.7793163319952566e-11\n",
      "dist:0.023245002251242666, curr:3.779291646934161e-11\n",
      "dist:0.023245002251242666, curr:3.7792703404820695e-11\n",
      "dist:0.023245002251242666, curr:3.779249504549797e-11\n",
      "dist:0.023245002251242666, curr:3.779245552420432e-11\n",
      "dist:0.023245002251242666, curr:3.7792461461559465e-11\n",
      "dist:0.023245002251242666, curr:3.7792486642953144e-11\n",
      "dist:0.023245002251242666, curr:3.779235862337364e-11\n",
      "dist:0.023245002251242666, curr:3.7792068843322465e-11\n",
      "dist:0.023245002251242666, curr:3.779214942141239e-11\n",
      "dist:0.023245002251242666, curr:3.7792037942992916e-11\n",
      "dist:0.023245002251242666, curr:3.7791852058798294e-11\n",
      "dist:0.023245002251242666, curr:3.779178807212145e-11\n",
      "dist:0.023245002251242666, curr:3.779182639448281e-11\n",
      "dist:0.023245002251242666, curr:3.77915275168373e-11\n",
      "dist:0.023245002251242666, curr:3.7791538976855315e-11\n",
      "dist:0.023245002251242666, curr:3.7791316209823626e-11\n",
      "dist:0.023245002251242666, curr:3.77914975617426e-11\n",
      "dist:0.023245002251242666, curr:3.7791103221734174e-11\n",
      "dist:0.023245002251242666, curr:3.779101056950661e-11\n",
      "dist:0.023245002251242666, curr:3.779101969058214e-11\n",
      "dist:0.023245002251242666, curr:3.7790917437954115e-11\n",
      "dist:0.023245002251242666, curr:3.779089277859392e-11\n",
      "dist:0.023245002251242666, curr:3.779074483310091e-11\n",
      "dist:0.023245002251242666, curr:3.779052206825737e-11\n",
      "dist:0.023245002251242666, curr:3.779058579980839e-11\n",
      "dist:0.023245002251242666, curr:3.779027693338685e-11\n",
      "dist:0.023245002251242666, curr:3.779063325154906e-11\n",
      "dist:0.023245002251242666, curr:3.779022582198287e-11\n",
      "dist:0.023245002251242666, curr:3.779019276703712e-11\n",
      "dist:0.023245002251242666, curr:3.778991127089413e-11\n",
      "dist:0.023245002251242666, curr:3.7790032839241434e-11\n",
      "dist:0.023245002251242666, curr:3.779005657962186e-11\n",
      "dist:0.023245002251242666, curr:3.778982513764823e-11\n",
      "dist:0.023245002251242666, curr:3.778953070407463e-11\n",
      "dist:0.023245002251242666, curr:3.778955868003486e-11\n",
      "dist:0.023245002251242666, curr:3.7789249103319756e-11\n",
      "dist:0.023245002251242666, curr:3.778944538924418e-11\n",
      "dist:0.023245002251242666, curr:3.778917170358959e-11\n",
      "dist:0.023245002251242666, curr:3.77893888110286e-11\n",
      "dist:0.023245002251242666, curr:3.778904870628827e-11\n",
      "dist:0.023245002251242666, curr:3.7788934426172045e-11\n",
      "dist:0.023245002251242666, curr:3.778890931569151e-11\n",
      "dist:0.023245002251242666, curr:3.778889527526473e-11\n",
      "dist:0.023245002251242666, curr:3.7788428382854036e-11\n",
      "dist:0.023245002251242666, curr:3.7788930902086395e-11\n"
     ]
    },
    {
     "ename": "KeyboardInterrupt",
     "evalue": "",
     "output_type": "error",
     "traceback": [
      "\u001b[0;31m---------------------------------------------------------------------------\u001b[0m",
      "\u001b[0;31mKeyboardInterrupt\u001b[0m                         Traceback (most recent call last)",
      "\u001b[0;32m/tmp/ipykernel_25907/332157607.py\u001b[0m in \u001b[0;36m<module>\u001b[0;34m\u001b[0m\n\u001b[0;32m----> 1\u001b[0;31m \u001b[0mnode\u001b[0m \u001b[0;34m=\u001b[0m \u001b[0mrrt\u001b[0m\u001b[0;34m.\u001b[0m\u001b[0mcontrol\u001b[0m\u001b[0;34m(\u001b[0m\u001b[0mnn\u001b[0m\u001b[0;34m,\u001b[0m \u001b[0mgoal\u001b[0m\u001b[0;34m)\u001b[0m\u001b[0;34m\u001b[0m\u001b[0;34m\u001b[0m\u001b[0m\n\u001b[0m\u001b[1;32m      2\u001b[0m \u001b[0;32mif\u001b[0m \u001b[0mnode\u001b[0m \u001b[0;32mis\u001b[0m \u001b[0;32mnot\u001b[0m \u001b[0;32mNone\u001b[0m\u001b[0;34m:\u001b[0m\u001b[0;34m\u001b[0m\u001b[0;34m\u001b[0m\u001b[0m\n\u001b[1;32m      3\u001b[0m     \u001b[0mchecker\u001b[0m\u001b[0;34m.\u001b[0m\u001b[0mset_joint_positions\u001b[0m\u001b[0;34m(\u001b[0m\u001b[0mnode\u001b[0m\u001b[0;34m.\u001b[0m\u001b[0mq\u001b[0m\u001b[0;34m)\u001b[0m\u001b[0;34m\u001b[0m\u001b[0;34m\u001b[0m\u001b[0m\n",
      "\u001b[0;32m~/ws/tsrrt/tsrrt/RRT.py\u001b[0m in \u001b[0;36mcontrol\u001b[0;34m(self, node1, node2)\u001b[0m\n\u001b[1;32m     58\u001b[0m             \u001b[0;31m#debug\u001b[0m\u001b[0;34m\u001b[0m\u001b[0;34m\u001b[0m\u001b[0;34m\u001b[0m\u001b[0m\n\u001b[1;32m     59\u001b[0m             \u001b[0mself\u001b[0m\u001b[0;34m.\u001b[0m\u001b[0m_checker\u001b[0m\u001b[0;34m.\u001b[0m\u001b[0mset_joint_positions\u001b[0m\u001b[0;34m(\u001b[0m\u001b[0mq_new\u001b[0m\u001b[0;34m)\u001b[0m\u001b[0;34m\u001b[0m\u001b[0;34m\u001b[0m\u001b[0m\n\u001b[0;32m---> 60\u001b[0;31m             \u001b[0mtime\u001b[0m\u001b[0;34m.\u001b[0m\u001b[0msleep\u001b[0m\u001b[0;34m(\u001b[0m\u001b[0;36m0.1\u001b[0m\u001b[0;34m)\u001b[0m\u001b[0;34m\u001b[0m\u001b[0;34m\u001b[0m\u001b[0m\n\u001b[0m\u001b[1;32m     61\u001b[0m         \u001b[0;31m#return node_curr\u001b[0m\u001b[0;34m\u001b[0m\u001b[0;34m\u001b[0m\u001b[0;34m\u001b[0m\u001b[0m\n\u001b[1;32m     62\u001b[0m \u001b[0;34m\u001b[0m\u001b[0m\n",
      "\u001b[0;31mKeyboardInterrupt\u001b[0m: "
     ]
    }
   ],
   "source": [
    "node = rrt.control(nn, goal)\n",
    "if node is not None:\n",
    "    checker.set_joint_positions(node.q)"
   ]
  },
  {
   "cell_type": "code",
   "execution_count": 16,
   "id": "3f1addf1-594e-4e90-b7fc-43e653d1a176",
   "metadata": {},
   "outputs": [
    {
     "name": "stdout",
     "output_type": "stream",
     "text": [
      "dist:0.0012727346752713835, curr:0.0010242734124335964\n",
      "dist:0.0012727346752713835, curr:0.0008243207813463898\n",
      "dist:0.0012727346752713835, curr:0.0006634063027955989\n",
      "dist:0.0012727346752713835, curr:0.0005339080359256045\n",
      "dist:0.0012727346752713835, curr:0.00042969198518822126\n",
      "dist:0.0012727346752713835, curr:0.00034582175021569307\n",
      "dist:0.0012727346752713835, curr:0.00027832477567523437\n",
      "dist:0.0012727346752713835, curr:0.00022400419189312623\n",
      "dist:0.0012727346752713835, curr:0.00018028736790526165\n",
      "dist:0.0012727346752713835, curr:0.00014510402274753084\n",
      "0.00014510402274753084\n"
     ]
    }
   ],
   "source": [
    "if node is not None:\n",
    "    node = rrt.control(node, goal)\n",
    "    checker.set_joint_positions(node.q)\n",
    "    print(ss.distance(node, goal, is_weighted=True))\n",
    "else:\n",
    "    print(\"control failed\")"
   ]
  },
  {
   "cell_type": "code",
   "execution_count": 131,
   "id": "5775d2ee-bf98-4072-8eb9-cf381584626c",
   "metadata": {},
   "outputs": [
    {
     "name": "stdout",
     "output_type": "stream",
     "text": [
      "0.04079811994040256\n"
     ]
    }
   ],
   "source": [
    "node_next = rrt.control(node, goal)\n",
    "checker.set_joint_positions(node.q)\n",
    "print(ss.distance(node, node_next, is_weighted=True))\n",
    "node = node_next"
   ]
  },
  {
   "cell_type": "markdown",
   "id": "3bdd59d2-ec6d-44d9-9b32-0486efdea1a1",
   "metadata": {},
   "source": [
    "### weighting effect in Nearest"
   ]
  },
  {
   "cell_type": "code",
   "execution_count": 7,
   "id": "b7b82a27-5be8-43bc-af27-dc2992a18796",
   "metadata": {},
   "outputs": [],
   "source": [
    "for i in range(15):\n",
    "    node = ss.random()\n",
    "    tree.add(node, start)\n",
    "    view_node(node, color=\"k\")"
   ]
  },
  {
   "cell_type": "code",
   "execution_count": 9,
   "id": "83fa1c12-5905-4e5b-9941-65d40e456a8c",
   "metadata": {},
   "outputs": [],
   "source": [
    "node = ss.random()\n",
    "view_node(node)\n",
    "nn_w = tree.nearest(node)\n",
    "nn = tree.nearest(node, is_weighted=False)\n",
    "view_node(nn_w, \"r\")\n",
    "view_node(nn, \"g\")"
   ]
  },
  {
   "cell_type": "code",
   "execution_count": null,
   "id": "2670acc0-04d3-42cd-b40b-09369666c875",
   "metadata": {},
   "outputs": [],
   "source": []
  }
 ],
 "metadata": {
  "kernelspec": {
   "display_name": "Python 3 (ipykernel)",
   "language": "python",
   "name": "python3"
  },
  "language_info": {
   "codemirror_mode": {
    "name": "ipython",
    "version": 3
   },
   "file_extension": ".py",
   "mimetype": "text/x-python",
   "name": "python",
   "nbconvert_exporter": "python",
   "pygments_lexer": "ipython3",
   "version": "3.8.10"
  }
 },
 "nbformat": 4,
 "nbformat_minor": 5
}
