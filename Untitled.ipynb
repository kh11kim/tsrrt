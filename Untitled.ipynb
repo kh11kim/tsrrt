{
 "cells": [
  {
   "cell_type": "code",
   "execution_count": 11,
   "id": "8f1f0e09-9f3b-45a8-be82-892e43ed3b5c",
   "metadata": {},
   "outputs": [],
   "source": [
    "from tsrrt.bullet_robot import PandaBullet, view_pose, clear\n",
    "import pybullet as p\n",
    "import pybullet_data\n",
    "import numpy as np\n",
    "from spatial_math_mini import *"
   ]
  },
  {
   "cell_type": "code",
   "execution_count": 2,
   "id": "7c2afcd6-ae66-4e7e-9101-ce913c7826bb",
   "metadata": {},
   "outputs": [],
   "source": [
    "uid = p.connect(p.GUI)\n",
    "rate = 240.\n",
    "p.setTimeStep(1/rate)\n",
    "p.resetSimulation() #init\n",
    "p.setGravity(0, 0, -9.8) #set gravity\n",
    "#\n",
    "p.setRealTimeSimulation(False)\n",
    "#panda = PandaBullet(p) # load robot\n"
   ]
  },
  {
   "cell_type": "code",
   "execution_count": 3,
   "id": "056830da-1aa5-4e49-9bcc-3cfe775d8325",
   "metadata": {},
   "outputs": [],
   "source": [
    "p.setAdditionalSearchPath(pybullet_data.getDataPath()) # for loading plane\n",
    "plane_id = p.loadURDF(\"plane.urdf\") # load plane"
   ]
  },
  {
   "cell_type": "code",
   "execution_count": 4,
   "id": "5945df2c-c9b4-4077-bb70-a227ea536c70",
   "metadata": {},
   "outputs": [],
   "source": [
    "panda = PandaBullet(p)"
   ]
  },
  {
   "cell_type": "code",
   "execution_count": 5,
   "id": "a92faac0-1245-4575-9257-c575b181503f",
   "metadata": {},
   "outputs": [],
   "source": [
    "lego = p.loadURDF(\"lego/lego.urdf\")\n",
    "p.resetBasePositionAndOrientation(lego,[0.5,0,0.01], [0,0,0,1])"
   ]
  },
  {
   "cell_type": "markdown",
   "id": "ea90e929-3a01-45d3-a879-18b17c8324cf",
   "metadata": {},
   "source": [
    "### Motion Planning"
   ]
  },
  {
   "cell_type": "code",
   "execution_count": 2,
   "id": "4e4ee611-6baa-4faa-ab4f-dde709d89f53",
   "metadata": {},
   "outputs": [],
   "source": [
    "import numpy as np\n",
    "from spatial_math_mini import *\n",
    "import kdtree\n",
    "import datetime"
   ]
  },
  {
   "cell_type": "code",
   "execution_count": 9,
   "id": "3ac7735c-0d68-4c3d-8966-30e71201e47c",
   "metadata": {},
   "outputs": [],
   "source": [
    "from tsrrt.tsrrt import RRT\n",
    "from tsrrt.data_structure import Node\n",
    "import numpy as np\n"
   ]
  },
  {
   "cell_type": "code",
   "execution_count": 9,
   "id": "c5e684fa-f497-423b-b0de-4613ca833477",
   "metadata": {},
   "outputs": [],
   "source": [
    "qtn, t = np.array([0,0,0,1]), np.array([0,0,0.01])\n",
    "start = Node(SE3(qtn, t))\n",
    "goal = Node.random()"
   ]
  },
  {
   "cell_type": "code",
   "execution_count": 6,
   "id": "7f722403-49bf-4f6f-a36d-10bc70856d6b",
   "metadata": {},
   "outputs": [
    {
     "data": {
      "text/plain": [
       "array([[ 1.00000000e+00, -4.48308057e-13,  1.06179596e-16,\n",
       "         5.54500000e-01],\n",
       "       [-4.48308057e-13, -1.00000000e+00, -9.79359957e-12,\n",
       "        -3.21955792e-12],\n",
       "       [ 1.06179600e-16,  9.79359957e-12, -1.00000000e+00,\n",
       "         5.19500000e-01],\n",
       "       [ 0.00000000e+00,  0.00000000e+00,  0.00000000e+00,\n",
       "         1.00000000e+00]])"
      ]
     },
     "execution_count": 6,
     "metadata": {},
     "output_type": "execute_result"
    }
   ],
   "source": [
    "panda.get_ee_pose()"
   ]
  },
  {
   "cell_type": "code",
   "execution_count": 15,
   "id": "ead4b242-64bb-4bd0-9f69-c5daedc0f573",
   "metadata": {},
   "outputs": [
    {
     "data": {
      "text/plain": [
       "[9, 10, 11]"
      ]
     },
     "execution_count": 15,
     "metadata": {},
     "output_type": "execute_result"
    }
   ],
   "source": [
    "view_pose(p, panda.get_ee_pose())"
   ]
  },
  {
   "cell_type": "code",
   "execution_count": 8,
   "id": "aa672607-253d-4ee7-896e-239373c348b1",
   "metadata": {},
   "outputs": [],
   "source": [
    "pos, ori = p.getBasePositionAndOrientation(lego)"
   ]
  },
  {
   "cell_type": "code",
   "execution_count": 9,
   "id": "2dff0edd-7e1a-4ed3-9e8a-f82c62c23573",
   "metadata": {},
   "outputs": [],
   "source": [
    "pos = np.array(pos)\n",
    "ori = np.array(ori)"
   ]
  },
  {
   "cell_type": "code",
   "execution_count": 18,
   "id": "c412a299-4570-4a11-a14d-b3fa395563a9",
   "metadata": {},
   "outputs": [
    {
     "data": {
      "text/plain": [
       "[15, 16, 17]"
      ]
     },
     "execution_count": 18,
     "metadata": {},
     "output_type": "execute_result"
    }
   ],
   "source": [
    "T_grasp = (SE3.qtn_trans(ori, pos) @ SE3.Ry(np.pi)).T\n",
    "view_pose(p, T_grasp)"
   ]
  },
  {
   "cell_type": "code",
   "execution_count": null,
   "id": "970ffeff-fea0-4c1c-80dd-6f6f8f550273",
   "metadata": {},
   "outputs": [],
   "source": []
  },
  {
   "cell_type": "code",
   "execution_count": 22,
   "id": "a690677b-b019-4123-b13f-544e03d91d3e",
   "metadata": {},
   "outputs": [],
   "source": [
    "q, x = panda.get_arm_states()['position'], panda.get_ee_pose()"
   ]
  },
  {
   "cell_type": "code",
   "execution_count": 23,
   "id": "93a22ab4-ce15-4967-a8d6-181df91da5ed",
   "metadata": {},
   "outputs": [
    {
     "data": {
      "text/plain": [
       "([0.0,\n",
       "  0.0,\n",
       "  0.0,\n",
       "  -1.5707963267948966,\n",
       "  0.0,\n",
       "  1.5707963267948966,\n",
       "  0.7853981633974483],\n",
       " array([[ 1.00000000e+00, -4.48308057e-13,  1.06179596e-16,\n",
       "          5.54500000e-01],\n",
       "        [-4.48308057e-13, -1.00000000e+00, -9.79359957e-12,\n",
       "         -3.21955792e-12],\n",
       "        [ 1.06179600e-16,  9.79359957e-12, -1.00000000e+00,\n",
       "          5.19500000e-01],\n",
       "        [ 0.00000000e+00,  0.00000000e+00,  0.00000000e+00,\n",
       "          1.00000000e+00]]))"
      ]
     },
     "execution_count": 23,
     "metadata": {},
     "output_type": "execute_result"
    }
   ],
   "source": [
    "q, x"
   ]
  },
  {
   "cell_type": "code",
   "execution_count": 17,
   "id": "611e4952-5615-463f-bff9-c8ef9f3ec2c7",
   "metadata": {},
   "outputs": [],
   "source": [
    "clear(p)"
   ]
  },
  {
   "cell_type": "code",
   "execution_count": 32,
   "id": "b9405b73-f068-4742-80d8-e9d7722b9b86",
   "metadata": {},
   "outputs": [
    {
     "data": {
      "text/plain": [
       "SE3 Class\n",
       "array([[-1.  ,  0.  ,  0.  ,  0.5 ],\n",
       "       [ 0.  , -1.  ,  0.  ,  0.  ],\n",
       "       [ 0.  ,  0.  ,  1.  ,  0.01],\n",
       "       [ 0.  ,  0.  ,  0.  ,  1.  ]])"
      ]
     },
     "execution_count": 32,
     "metadata": {},
     "output_type": "execute_result"
    }
   ],
   "source": [
    "SE3.qtn_trans(ori, pos)"
   ]
  },
  {
   "cell_type": "code",
   "execution_count": 35,
   "id": "ef6ffefb-8179-4012-ba70-05d1be0493b6",
   "metadata": {},
   "outputs": [],
   "source": [
    "R = SE3.Ry(np.pi/2).R"
   ]
  },
  {
   "cell_type": "code",
   "execution_count": 6,
   "id": "8e61ef96-6b2d-485f-a601-95cdb9263222",
   "metadata": {},
   "outputs": [
    {
     "data": {
      "text/plain": [
       "(4,)"
      ]
     },
     "execution_count": 6,
     "metadata": {},
     "output_type": "execute_result"
    }
   ],
   "source": [
    "SE3._axisangle_to_quaternion([0,0,1], np.pi).shape"
   ]
  },
  {
   "cell_type": "code",
   "execution_count": 7,
   "id": "229334e8-f2be-41ea-947d-d28a2400dd0a",
   "metadata": {},
   "outputs": [
    {
     "ename": "Exception",
     "evalue": "SE3 Initialize Error!",
     "output_type": "error",
     "traceback": [
      "\u001b[0;31m---------------------------------------------------------------------------\u001b[0m",
      "\u001b[0;31mTypeError\u001b[0m                                 Traceback (most recent call last)",
      "\u001b[0;32m~/.local/lib/python3.8/site-packages/spatial_math_mini/SE3.py\u001b[0m in \u001b[0;36m__init__\u001b[0;34m(self, *args)\u001b[0m\n\u001b[1;32m     32\u001b[0m                 \u001b[0;32mif\u001b[0m \u001b[0;34m(\u001b[0m\u001b[0margs\u001b[0m\u001b[0;34m[\u001b[0m\u001b[0;36m0\u001b[0m\u001b[0;34m]\u001b[0m\u001b[0;34m.\u001b[0m\u001b[0mshape\u001b[0m \u001b[0;34m==\u001b[0m \u001b[0;34m(\u001b[0m\u001b[0;36m3\u001b[0m\u001b[0;34m,\u001b[0m\u001b[0;36m3\u001b[0m\u001b[0;34m)\u001b[0m\u001b[0;34m)\u001b[0m\u001b[0;31m \u001b[0m\u001b[0;31m \u001b[0m\u001b[0;31m \u001b[0m\u001b[0;31m\\\u001b[0m\u001b[0;34m\u001b[0m\u001b[0;34m\u001b[0m\u001b[0m\n\u001b[0;32m---> 33\u001b[0;31m                         \u001b[0;34m&\u001b[0m \u001b[0;34m(\u001b[0m\u001b[0mlen\u001b[0m\u001b[0;34m(\u001b[0m\u001b[0margs\u001b[0m\u001b[0;34m[\u001b[0m\u001b[0;36m1\u001b[0m\u001b[0;34m]\u001b[0m \u001b[0;34m==\u001b[0m \u001b[0;36m3\u001b[0m\u001b[0;34m)\u001b[0m\u001b[0;34m)\u001b[0m\u001b[0;34m:\u001b[0m\u001b[0;34m\u001b[0m\u001b[0;34m\u001b[0m\u001b[0m\n\u001b[0m\u001b[1;32m     34\u001b[0m                     \u001b[0mself\u001b[0m\u001b[0;34m.\u001b[0m\u001b[0m_qtn\u001b[0m \u001b[0;34m=\u001b[0m \u001b[0mself\u001b[0m\u001b[0;34m.\u001b[0m\u001b[0m_R_to_quaternion\u001b[0m\u001b[0;34m(\u001b[0m\u001b[0margs\u001b[0m\u001b[0;34m[\u001b[0m\u001b[0;36m0\u001b[0m\u001b[0;34m]\u001b[0m\u001b[0;34m)\u001b[0m\u001b[0;34m\u001b[0m\u001b[0;34m\u001b[0m\u001b[0m\n",
      "\u001b[0;31mTypeError\u001b[0m: object of type 'bool' has no len()",
      "\nDuring handling of the above exception, another exception occurred:\n",
      "\u001b[0;31mException\u001b[0m                                 Traceback (most recent call last)",
      "\u001b[0;32m/tmp/ipykernel_6971/1225193229.py\u001b[0m in \u001b[0;36m<module>\u001b[0;34m\u001b[0m\n\u001b[0;32m----> 1\u001b[0;31m \u001b[0mSE3\u001b[0m\u001b[0;34m(\u001b[0m\u001b[0mSE3\u001b[0m\u001b[0;34m.\u001b[0m\u001b[0m_axisangle_to_quaternion\u001b[0m\u001b[0;34m(\u001b[0m\u001b[0;34m[\u001b[0m\u001b[0;36m0\u001b[0m\u001b[0;34m,\u001b[0m\u001b[0;36m0\u001b[0m\u001b[0;34m,\u001b[0m\u001b[0;36m1\u001b[0m\u001b[0;34m]\u001b[0m\u001b[0;34m,\u001b[0m \u001b[0mnp\u001b[0m\u001b[0;34m.\u001b[0m\u001b[0mpi\u001b[0m\u001b[0;34m)\u001b[0m\u001b[0;34m,\u001b[0m \u001b[0;34m[\u001b[0m\u001b[0;36m0\u001b[0m\u001b[0;34m,\u001b[0m\u001b[0;36m0\u001b[0m\u001b[0;34m,\u001b[0m\u001b[0;36m0\u001b[0m\u001b[0;34m]\u001b[0m\u001b[0;34m)\u001b[0m\u001b[0;34m\u001b[0m\u001b[0;34m\u001b[0m\u001b[0m\n\u001b[0m",
      "\u001b[0;32m~/.local/lib/python3.8/site-packages/spatial_math_mini/SE3.py\u001b[0m in \u001b[0;36m__init__\u001b[0;34m(self, *args)\u001b[0m\n\u001b[1;32m     41\u001b[0m                 \u001b[0;32mraise\u001b[0m \u001b[0mException\u001b[0m\u001b[0;34m(\u001b[0m\u001b[0;34m\"SE3 Initialize Error! : The input parameter should be no more than 2\"\u001b[0m\u001b[0;34m)\u001b[0m\u001b[0;34m\u001b[0m\u001b[0;34m\u001b[0m\u001b[0m\n\u001b[1;32m     42\u001b[0m         \u001b[0;32mexcept\u001b[0m\u001b[0;34m:\u001b[0m\u001b[0;34m\u001b[0m\u001b[0;34m\u001b[0m\u001b[0m\n\u001b[0;32m---> 43\u001b[0;31m             \u001b[0;32mraise\u001b[0m \u001b[0mException\u001b[0m\u001b[0;34m(\u001b[0m\u001b[0;34m\"SE3 Initialize Error!\"\u001b[0m\u001b[0;34m)\u001b[0m\u001b[0;34m\u001b[0m\u001b[0;34m\u001b[0m\u001b[0m\n\u001b[0m\u001b[1;32m     44\u001b[0m \u001b[0;34m\u001b[0m\u001b[0m\n\u001b[1;32m     45\u001b[0m     \u001b[0;31m# -- properties --\u001b[0m\u001b[0;34m\u001b[0m\u001b[0;34m\u001b[0m\u001b[0;34m\u001b[0m\u001b[0m\n",
      "\u001b[0;31mException\u001b[0m: SE3 Initialize Error!"
     ]
    }
   ],
   "source": [
    "SE3(SE3._axisangle_to_quaternion([0,0,1], np.pi), [0,0,0])"
   ]
  },
  {
   "cell_type": "code",
   "execution_count": 29,
   "id": "d886af5d-4b9c-4735-9871-f9aecac14e04",
   "metadata": {},
   "outputs": [],
   "source": [
    "clear(p)"
   ]
  },
  {
   "cell_type": "code",
   "execution_count": 10,
   "id": "f66de44a-2646-4f01-97eb-3a678a116011",
   "metadata": {},
   "outputs": [],
   "source": [
    "planner = RRT(start, goal)"
   ]
  },
  {
   "cell_type": "code",
   "execution_count": 11,
   "id": "58d67101-851d-4295-9011-3afc9be86a3e",
   "metadata": {},
   "outputs": [
    {
     "name": "stdout",
     "output_type": "stream",
     "text": [
      "planning success\n",
      "elapsed time : 0.046152\n",
      "nodes:316\n"
     ]
    }
   ],
   "source": [
    "success, plan = planner.plan(max_time=5.0)"
   ]
  },
  {
   "cell_type": "code",
   "execution_count": 33,
   "id": "f9d13d73-7efd-4df0-8f71-ae3ffffec6c6",
   "metadata": {},
   "outputs": [
    {
     "data": {
      "text/plain": [
       "pos:[0.   0.   0.01] ori:[0 0 0 1]"
      ]
     },
     "execution_count": 33,
     "metadata": {},
     "output_type": "execute_result"
    }
   ],
   "source": [
    "start"
   ]
  },
  {
   "cell_type": "code",
   "execution_count": 34,
   "id": "c2904df2-3e25-47f7-87ed-40e428e88ac3",
   "metadata": {},
   "outputs": [
    {
     "data": {
      "text/plain": [
       "pos:[ 0.6994934  -0.67126125  0.13946908] ori:[0.01991791 0.64444146 0.76424007 0.01534919]"
      ]
     },
     "execution_count": 34,
     "metadata": {},
     "output_type": "execute_result"
    }
   ],
   "source": [
    "goal"
   ]
  },
  {
   "cell_type": "code",
   "execution_count": 12,
   "id": "6ff63636-29ca-4174-9b03-5c2e13604003",
   "metadata": {},
   "outputs": [],
   "source": [
    "def show_lego(node):\n",
    "    p.resetBasePositionAndOrientation(lego, node.pos, node.ori)"
   ]
  },
  {
   "cell_type": "code",
   "execution_count": 13,
   "id": "6b180b00-90f1-4a99-a24e-2746000881f3",
   "metadata": {},
   "outputs": [],
   "source": [
    "lego = p.loadURDF(\"lego/lego.urdf\")\n",
    "show_lego(start)"
   ]
  },
  {
   "cell_type": "code",
   "execution_count": 14,
   "id": "0189bb87-0259-4739-a42c-d48c217407a6",
   "metadata": {},
   "outputs": [],
   "source": [
    "show_lego(goal)"
   ]
  },
  {
   "cell_type": "code",
   "execution_count": 21,
   "id": "0c1fe3f4-b4f5-40a4-b609-2d2992f4db6a",
   "metadata": {},
   "outputs": [],
   "source": [
    "p.resetSimulation()"
   ]
  },
  {
   "cell_type": "code",
   "execution_count": 16,
   "id": "986d7f23-bc35-4562-a651-d2657feac949",
   "metadata": {},
   "outputs": [],
   "source": [
    "legos = []\n",
    "for node in planner._tree._data[::3]:\n",
    "    lego_ = p.loadURDF(\"lego/lego.urdf\")\n",
    "    legos.append(lego_)\n",
    "    p.resetBasePositionAndOrientation(lego_, node.pos, node.ori)"
   ]
  },
  {
   "cell_type": "code",
   "execution_count": 20,
   "id": "c477ab8c-549a-4065-be14-a24db60ccaf9",
   "metadata": {},
   "outputs": [],
   "source": [
    "legos = []\n",
    "for node in plan:\n",
    "    lego_ = p.loadURDF(\"lego/lego.urdf\")\n",
    "    legos.append(lego_)\n",
    "    p.resetBasePositionAndOrientation(lego_, node.pos, node.ori)"
   ]
  },
  {
   "cell_type": "code",
   "execution_count": 644,
   "id": "0e4148df-f5cf-4bde-b0cf-d6f058f11423",
   "metadata": {},
   "outputs": [],
   "source": [
    "i=0"
   ]
  },
  {
   "cell_type": "code",
   "execution_count": 724,
   "id": "86a8df34-11db-4a6b-a65b-de36faeaf32e",
   "metadata": {},
   "outputs": [
    {
     "name": "stdout",
     "output_type": "stream",
     "text": [
      "81 / 81\n"
     ]
    }
   ],
   "source": [
    "i += 1\n",
    "show_lego(path[i])\n",
    "print(i+1, \"/\",len(path))"
   ]
  },
  {
   "cell_type": "code",
   "execution_count": null,
   "id": "1e2d94c3-78f0-49bb-a946-2869aa060cdc",
   "metadata": {},
   "outputs": [],
   "source": []
  },
  {
   "cell_type": "code",
   "execution_count": 433,
   "id": "4a0991b3-28b8-4c35-abbf-049261949f7b",
   "metadata": {},
   "outputs": [
    {
     "name": "stdout",
     "output_type": "stream",
     "text": [
      "63\n"
     ]
    }
   ],
   "source": [
    "print()"
   ]
  },
  {
   "cell_type": "code",
   "execution_count": 316,
   "id": "30ba47fd-c8d4-41bc-b01d-0d7f922d3bde",
   "metadata": {},
   "outputs": [
    {
     "data": {
      "text/plain": [
       "352"
      ]
     },
     "execution_count": 316,
     "metadata": {},
     "output_type": "execute_result"
    }
   ],
   "source": [
    "planner._last_node.idx"
   ]
  },
  {
   "cell_type": "code",
   "execution_count": 229,
   "id": "062a05ea-888a-49ba-97e6-ac2081865b17",
   "metadata": {},
   "outputs": [],
   "source": [
    "i = 0"
   ]
  },
  {
   "cell_type": "code",
   "execution_count": 273,
   "id": "2ed0cb53-3267-4762-b262-ee852833018a",
   "metadata": {},
   "outputs": [
    {
     "name": "stdout",
     "output_type": "stream",
     "text": [
      "41\n"
     ]
    }
   ],
   "source": [
    "i += 1\n",
    "show_lego(planner._tree._data[i])\n",
    "print(i)"
   ]
  },
  {
   "cell_type": "code",
   "execution_count": 221,
   "id": "ce5b0a89-88eb-4ab8-9cbf-5a287fb8b758",
   "metadata": {},
   "outputs": [
    {
     "data": {
      "text/plain": [
       "<__main__.Tree at 0x7f8df8d87940>"
      ]
     },
     "execution_count": 221,
     "metadata": {},
     "output_type": "execute_result"
    }
   ],
   "source": [
    "planner._tree"
   ]
  },
  {
   "cell_type": "code",
   "execution_count": 130,
   "id": "64fda110-c549-47c2-ad45-3c496d0b61b4",
   "metadata": {},
   "outputs": [],
   "source": [
    "node_random.idx"
   ]
  },
  {
   "cell_type": "code",
   "execution_count": 251,
   "id": "f611ccbc-dc97-445b-a862-40b22690988c",
   "metadata": {},
   "outputs": [
    {
     "data": {
      "text/plain": [
       "42"
      ]
     },
     "execution_count": 251,
     "metadata": {},
     "output_type": "execute_result"
    }
   ],
   "source": [
    "planner._tree._num"
   ]
  },
  {
   "cell_type": "code",
   "execution_count": 106,
   "id": "7ca1f8b9-9152-4bc7-a128-f09699ebc208",
   "metadata": {},
   "outputs": [],
   "source": []
  },
  {
   "cell_type": "code",
   "execution_count": 108,
   "id": "15167b42-43c8-4d51-a91b-1f4c4491139b",
   "metadata": {},
   "outputs": [],
   "source": [
    "show_lego(node_random)"
   ]
  },
  {
   "cell_type": "code",
   "execution_count": 94,
   "id": "de8136ec-0d81-4635-8717-acdda9fbae15",
   "metadata": {},
   "outputs": [
    {
     "data": {
      "text/plain": [
       "True"
      ]
     },
     "execution_count": 94,
     "metadata": {},
     "output_type": "execute_result"
    }
   ],
   "source": [
    "start.is_valid()"
   ]
  },
  {
   "cell_type": "code",
   "execution_count": 8,
   "id": "4396361d-c350-4d06-b563-0d1302ce1663",
   "metadata": {},
   "outputs": [],
   "source": [
    "import matplotlib.pyplot as plt"
   ]
  },
  {
   "cell_type": "code",
   "execution_count": 7,
   "id": "a872d5d0-74be-4a32-ad1c-257ddf3e412c",
   "metadata": {},
   "outputs": [
    {
     "name": "stdout",
     "output_type": "stream",
     "text": [
      "Using matplotlib backend: QtAgg\n"
     ]
    },
    {
     "ename": "NameError",
     "evalue": "name 'plt' is not defined",
     "output_type": "error",
     "traceback": [
      "\u001b[0;31m---------------------------------------------------------------------------\u001b[0m",
      "\u001b[0;31mNameError\u001b[0m                                 Traceback (most recent call last)",
      "\u001b[0;32m/tmp/ipykernel_7543/1470726949.py\u001b[0m in \u001b[0;36m<module>\u001b[0;34m\u001b[0m\n\u001b[1;32m      1\u001b[0m \u001b[0mget_ipython\u001b[0m\u001b[0;34m(\u001b[0m\u001b[0;34m)\u001b[0m\u001b[0;34m.\u001b[0m\u001b[0mrun_line_magic\u001b[0m\u001b[0;34m(\u001b[0m\u001b[0;34m'matplotlib'\u001b[0m\u001b[0;34m,\u001b[0m \u001b[0;34m''\u001b[0m\u001b[0;34m)\u001b[0m\u001b[0;34m\u001b[0m\u001b[0;34m\u001b[0m\u001b[0m\n\u001b[1;32m      2\u001b[0m \u001b[0mv\u001b[0m \u001b[0;34m=\u001b[0m \u001b[0mViz\u001b[0m\u001b[0;34m(\u001b[0m\u001b[0maxeslength\u001b[0m\u001b[0;34m=\u001b[0m\u001b[0;36m0.1\u001b[0m\u001b[0;34m,\u001b[0m \u001b[0maxeswidth\u001b[0m\u001b[0;34m=\u001b[0m\u001b[0;36m1\u001b[0m\u001b[0;34m)\u001b[0m\u001b[0;34m\u001b[0m\u001b[0;34m\u001b[0m\u001b[0m\n\u001b[0;32m----> 3\u001b[0;31m \u001b[0mplt\u001b[0m\u001b[0;34m.\u001b[0m\u001b[0mshow\u001b[0m\u001b[0;34m(\u001b[0m\u001b[0;34m)\u001b[0m\u001b[0;34m\u001b[0m\u001b[0;34m\u001b[0m\u001b[0m\n\u001b[0m",
      "\u001b[0;31mNameError\u001b[0m: name 'plt' is not defined"
     ]
    }
   ],
   "source": [
    "%matplotlib\n",
    "v = Viz(axeslength=0.1, axeswidth=1)\n",
    "plt.show()"
   ]
  },
  {
   "cell_type": "code",
   "execution_count": 75,
   "id": "b9173c4f-f525-475a-80d5-07baa58ad189",
   "metadata": {},
   "outputs": [],
   "source": [
    "v.clear()"
   ]
  },
  {
   "cell_type": "code",
   "execution_count": 76,
   "id": "5977a621-2efa-4773-b635-202daf212fdc",
   "metadata": {},
   "outputs": [],
   "source": [
    "start = SE3.random()\n",
    "goal = SE3.random()"
   ]
  },
  {
   "cell_type": "code",
   "execution_count": 77,
   "id": "d04cdc66-da6a-4905-9bc8-13a2f7826377",
   "metadata": {},
   "outputs": [],
   "source": [
    "v.plot(start, name=\"start\")\n",
    "v.plot(goal, name=\"goal\")"
   ]
  },
  {
   "cell_type": "code",
   "execution_count": 78,
   "id": "9660ec05-dc2c-4f85-900a-7d09dcc51d7d",
   "metadata": {},
   "outputs": [],
   "source": [
    "q1 = start._qtn\n",
    "q2 = goal._qtn\n",
    "t1 = start.t\n",
    "t2 = goal.t"
   ]
  },
  {
   "cell_type": "code",
   "execution_count": 79,
   "id": "e4a19bb2-10ab-4611-a032-9395ac02d25c",
   "metadata": {},
   "outputs": [],
   "source": [
    "n = 10\n",
    "kk = np.linspace(0,1,n)\n",
    "# translation linear interpolation\n",
    "t_list = []\n",
    "t_delta = t2 - t1\n",
    "# quaternion slerp\n",
    "q_list = []\n",
    "lmda = q1@q2\n",
    "if lmda < 0:\n",
    "    q2, lmda = -q2, -lmda\n",
    "alpha = np.arccos(lmda)\n",
    "gamma = 1/np.sin(alpha)\n",
    "\n",
    "for k in kk:\n",
    "    r = np.sin((1-k)*alpha) * gamma\n",
    "    s = np.sin(k*alpha) * gamma\n",
    "    q_ = q1*r + q2*s\n",
    "    q_list.append(q_/np.linalg.norm(q_))\n",
    "    t_list.append(t1 + k*t_delta)"
   ]
  },
  {
   "cell_type": "code",
   "execution_count": 80,
   "id": "212b5117-71f2-492a-8256-43b70d5c9344",
   "metadata": {},
   "outputs": [],
   "source": [
    "SE3_list = [SE3(q,t) for q, t in zip(q_list, t_list)]"
   ]
  },
  {
   "cell_type": "code",
   "execution_count": 81,
   "id": "2face827-ffe7-4d74-bda8-f945747a1425",
   "metadata": {},
   "outputs": [],
   "source": [
    "for SE3_ in SE3_list:\n",
    "    v.plot(SE3_, name=\"i\")"
   ]
  },
  {
   "cell_type": "code",
   "execution_count": 48,
   "id": "3b734abf-7e88-4ea4-ae52-48f57b12ffc4",
   "metadata": {},
   "outputs": [],
   "source": [
    "v.clear()"
   ]
  },
  {
   "cell_type": "code",
   "execution_count": null,
   "id": "77d19e10-d5c8-4e00-b444-ba56c2401b13",
   "metadata": {},
   "outputs": [],
   "source": []
  },
  {
   "cell_type": "code",
   "execution_count": 215,
   "id": "5f725b59-eaba-421a-be7f-dbdf3bff942e",
   "metadata": {},
   "outputs": [
    {
     "data": {
      "text/plain": [
       "<__main__.RRT at 0x7f6290d1b1f0>"
      ]
     },
     "execution_count": 215,
     "metadata": {},
     "output_type": "execute_result"
    }
   ],
   "source": [
    "RRT(start, goal)"
   ]
  },
  {
   "cell_type": "code",
   "execution_count": 216,
   "id": "6f1575cf-36f2-41b1-be1e-78d1bfdd73ac",
   "metadata": {},
   "outputs": [
    {
     "data": {
      "text/plain": [
       "__main__.RRT"
      ]
     },
     "execution_count": 216,
     "metadata": {},
     "output_type": "execute_result"
    }
   ],
   "source": [
    "RRT"
   ]
  },
  {
   "cell_type": "code",
   "execution_count": 189,
   "id": "2bcd1183-0520-4b51-887c-eaa24545f147",
   "metadata": {},
   "outputs": [],
   "source": [
    "a = Node.random()"
   ]
  },
  {
   "cell_type": "code",
   "execution_count": 190,
   "id": "db4628bd-1b26-45ec-97e7-daa71de59e36",
   "metadata": {},
   "outputs": [],
   "source": [
    "tree = Tree()"
   ]
  },
  {
   "cell_type": "code",
   "execution_count": 191,
   "id": "f4553fe4-4a8b-403e-af38-8eb7110ec75b",
   "metadata": {},
   "outputs": [],
   "source": [
    "points = [Node.random() for i in range(100)]"
   ]
  },
  {
   "cell_type": "code",
   "execution_count": 192,
   "id": "202a5fa6-cad1-4d1c-b39f-b467295e790d",
   "metadata": {},
   "outputs": [],
   "source": [
    "for point in points:\n",
    "    tree.add(point)"
   ]
  },
  {
   "cell_type": "code",
   "execution_count": 193,
   "id": "2bcd411e-8114-4adf-8669-fcbf1dd4c333",
   "metadata": {},
   "outputs": [
    {
     "name": "stdout",
     "output_type": "stream",
     "text": [
      "Using matplotlib backend: TkAgg\n"
     ]
    }
   ],
   "source": [
    "%matplotlib\n",
    "fig = plt.figure()\n",
    "ax = fig.add_subplot(111, projection='3d')"
   ]
  },
  {
   "cell_type": "code",
   "execution_count": 202,
   "id": "8f4c38dc-0a01-44f0-8f95-1bdb5ae0b5e6",
   "metadata": {},
   "outputs": [
    {
     "data": {
      "text/plain": [
       "<mpl_toolkits.mplot3d.art3d.Path3DCollection at 0x7f6290d13310>"
      ]
     },
     "execution_count": 202,
     "metadata": {},
     "output_type": "execute_result"
    }
   ],
   "source": [
    "data = np.array([node.data for node in tree._kdtree.inorder()])\n",
    "ax.scatter(*data.T)"
   ]
  },
  {
   "cell_type": "code",
   "execution_count": 203,
   "id": "39539fc2-1a8f-4861-89a2-bfe12b4fab4d",
   "metadata": {},
   "outputs": [
    {
     "data": {
      "text/plain": [
       "<mpl_toolkits.mplot3d.art3d.Path3DCollection at 0x7f6290cb54f0>"
      ]
     },
     "execution_count": 203,
     "metadata": {},
     "output_type": "execute_result"
    }
   ],
   "source": [
    "target = Node.random()\n",
    "ax.scatter(*target,c='r')"
   ]
  },
  {
   "cell_type": "code",
   "execution_count": 205,
   "id": "d2fa39ea-aab9-486c-bc1a-9c88b3de0cc5",
   "metadata": {},
   "outputs": [
    {
     "data": {
      "text/plain": [
       "<mpl_toolkits.mplot3d.art3d.Path3DCollection at 0x7f6290cb3460>"
      ]
     },
     "execution_count": 205,
     "metadata": {},
     "output_type": "execute_result"
    }
   ],
   "source": [
    "nn = tree.nearest(target)\n",
    "ax.scatter(*nn, c='k')"
   ]
  },
  {
   "cell_type": "code",
   "execution_count": 207,
   "id": "ff74d1e8-a854-419e-81b0-25b8fddb6cf8",
   "metadata": {},
   "outputs": [
    {
     "data": {
      "text/plain": [
       "array([0.38544057, 0.2649745 , 0.87370286, 0.13366899])"
      ]
     },
     "execution_count": 207,
     "metadata": {},
     "output_type": "execute_result"
    }
   ],
   "source": [
    "nn.ori"
   ]
  },
  {
   "cell_type": "code",
   "execution_count": null,
   "id": "0943e750-a82f-4d06-b526-95aa15812b12",
   "metadata": {},
   "outputs": [],
   "source": []
  },
  {
   "cell_type": "code",
   "execution_count": 16,
   "id": "d4963f89-df21-49a9-99bc-3635a8aecce3",
   "metadata": {},
   "outputs": [],
   "source": [
    "import datetime"
   ]
  },
  {
   "cell_type": "code",
   "execution_count": 91,
   "id": "9a27f14a-8a73-4cdd-8f3a-7c446a1811a8",
   "metadata": {},
   "outputs": [
    {
     "ename": "AttributeError",
     "evalue": "'Tree' object has no attribute 'rebalance'",
     "output_type": "error",
     "traceback": [
      "\u001b[0;31m---------------------------------------------------------------------------\u001b[0m",
      "\u001b[0;31mAttributeError\u001b[0m                            Traceback (most recent call last)",
      "\u001b[0;32m/tmp/ipykernel_2946/2374188470.py\u001b[0m in \u001b[0;36m<module>\u001b[0;34m\u001b[0m\n\u001b[1;32m      2\u001b[0m \u001b[0mtree\u001b[0m\u001b[0;34m.\u001b[0m\u001b[0madd\u001b[0m\u001b[0;34m(\u001b[0m\u001b[0mpoint\u001b[0m\u001b[0;34m)\u001b[0m\u001b[0;34m\u001b[0m\u001b[0;34m\u001b[0m\u001b[0m\n\u001b[1;32m      3\u001b[0m \u001b[0mmid\u001b[0m \u001b[0;34m=\u001b[0m \u001b[0mdatetime\u001b[0m\u001b[0;34m.\u001b[0m\u001b[0mdatetime\u001b[0m\u001b[0;34m.\u001b[0m\u001b[0mnow\u001b[0m\u001b[0;34m(\u001b[0m\u001b[0;34m)\u001b[0m\u001b[0;34m\u001b[0m\u001b[0;34m\u001b[0m\u001b[0m\n\u001b[0;32m----> 4\u001b[0;31m \u001b[0mtree\u001b[0m\u001b[0;34m.\u001b[0m\u001b[0mrebalance\u001b[0m\u001b[0;34m(\u001b[0m\u001b[0;34m)\u001b[0m\u001b[0;34m\u001b[0m\u001b[0;34m\u001b[0m\u001b[0m\n\u001b[0m\u001b[1;32m      5\u001b[0m \u001b[0mfin\u001b[0m \u001b[0;34m=\u001b[0m \u001b[0mdatetime\u001b[0m\u001b[0;34m.\u001b[0m\u001b[0mdatetime\u001b[0m\u001b[0;34m.\u001b[0m\u001b[0mnow\u001b[0m\u001b[0;34m(\u001b[0m\u001b[0;34m)\u001b[0m\u001b[0;34m\u001b[0m\u001b[0;34m\u001b[0m\u001b[0m\n\u001b[1;32m      6\u001b[0m \u001b[0mprint\u001b[0m\u001b[0;34m(\u001b[0m\u001b[0;34m\"addtime: \"\u001b[0m\u001b[0;34m,\u001b[0m\u001b[0mmid\u001b[0m\u001b[0;34m-\u001b[0m\u001b[0mstart\u001b[0m\u001b[0;34m)\u001b[0m\u001b[0;34m\u001b[0m\u001b[0;34m\u001b[0m\u001b[0m\n",
      "\u001b[0;31mAttributeError\u001b[0m: 'Tree' object has no attribute 'rebalance'"
     ]
    }
   ],
   "source": [
    "start = datetime.datetime.now()\n",
    "tree.add(point)\n",
    "mid = datetime.datetime.now()\n",
    "tree.rebalance()\n",
    "fin = datetime.datetime.now()\n",
    "print(\"addtime: \",mid-start)\n",
    "print(\"rebtime: \",fin-mid)"
   ]
  },
  {
   "cell_type": "code",
   "execution_count": 58,
   "id": "b1c6f21f-fae5-4d50-877c-a61eee871ebb",
   "metadata": {},
   "outputs": [
    {
     "ename": "TypeError",
     "evalue": "list indices must be integers or slices, not tuple",
     "output_type": "error",
     "traceback": [
      "\u001b[0;31m---------------------------------------------------------------------------\u001b[0m",
      "\u001b[0;31mTypeError\u001b[0m                                 Traceback (most recent call last)",
      "\u001b[0;32m/tmp/ipykernel_2946/1693796121.py\u001b[0m in \u001b[0;36m<module>\u001b[0;34m\u001b[0m\n\u001b[0;32m----> 1\u001b[0;31m \u001b[0mnp\u001b[0m\u001b[0;34m.\u001b[0m\u001b[0margwhere\u001b[0m\u001b[0;34m(\u001b[0m\u001b[0mpoints\u001b[0m\u001b[0;34m[\u001b[0m\u001b[0;34m:\u001b[0m\u001b[0;34m,\u001b[0m\u001b[0;36m0\u001b[0m\u001b[0;34m]\u001b[0m\u001b[0;34m==\u001b[0m\u001b[0mroot\u001b[0m\u001b[0;34m.\u001b[0m\u001b[0mdata\u001b[0m\u001b[0;34m[\u001b[0m\u001b[0;36m0\u001b[0m\u001b[0;34m]\u001b[0m\u001b[0;34m)\u001b[0m\u001b[0;34m\u001b[0m\u001b[0;34m\u001b[0m\u001b[0m\n\u001b[0m",
      "\u001b[0;31mTypeError\u001b[0m: list indices must be integers or slices, not tuple"
     ]
    }
   ],
   "source": [
    "np.argwhere(points[:,0]==root.data[0])"
   ]
  },
  {
   "cell_type": "code",
   "execution_count": 59,
   "id": "76fa6281-496d-49a8-a0df-2550c411f38c",
   "metadata": {},
   "outputs": [],
   "source": [
    "target_point = Node(SE3.random())"
   ]
  },
  {
   "cell_type": "code",
   "execution_count": 184,
   "id": "aea70d5e-061e-45c6-a317-b33171094173",
   "metadata": {},
   "outputs": [],
   "source": [
    "node, dist = tree.search_nn(target_point)"
   ]
  },
  {
   "cell_type": "code",
   "execution_count": 185,
   "id": "2bb27d4b-f9bf-459a-93d7-f67d48ea2c66",
   "metadata": {},
   "outputs": [
    {
     "data": {
      "text/plain": [
       "<KDNode - pos:[ 0.11394076 -0.6986452   0.16719206] ori:[ 0.04155751  0.69789872 -0.19804084 -0.68701541]>"
      ]
     },
     "execution_count": 185,
     "metadata": {},
     "output_type": "execute_result"
    }
   ],
   "source": [
    "node"
   ]
  },
  {
   "cell_type": "code",
   "execution_count": 99,
   "id": "f0c47a2e-faee-4a7d-9ece-f705beb56bc9",
   "metadata": {},
   "outputs": [],
   "source": [
    "import matplotlib.pyplot as plt\n",
    "from mpl_toolkits import mplot3d"
   ]
  },
  {
   "cell_type": "code",
   "execution_count": 100,
   "id": "4b83080e-134b-4950-8e95-0f3e0365bd0b",
   "metadata": {},
   "outputs": [
    {
     "ename": "AttributeError",
     "evalue": "'list' object has no attribute 'T'",
     "output_type": "error",
     "traceback": [
      "\u001b[0;31m---------------------------------------------------------------------------\u001b[0m",
      "\u001b[0;31mAttributeError\u001b[0m                            Traceback (most recent call last)",
      "\u001b[0;32m/tmp/ipykernel_2946/1014347772.py\u001b[0m in \u001b[0;36m<module>\u001b[0;34m\u001b[0m\n\u001b[1;32m      1\u001b[0m \u001b[0mfig\u001b[0m \u001b[0;34m=\u001b[0m \u001b[0mplt\u001b[0m\u001b[0;34m.\u001b[0m\u001b[0mfigure\u001b[0m\u001b[0;34m(\u001b[0m\u001b[0;34m)\u001b[0m\u001b[0;34m\u001b[0m\u001b[0;34m\u001b[0m\u001b[0m\n\u001b[1;32m      2\u001b[0m \u001b[0max\u001b[0m \u001b[0;34m=\u001b[0m \u001b[0mfig\u001b[0m\u001b[0;34m.\u001b[0m\u001b[0madd_subplot\u001b[0m\u001b[0;34m(\u001b[0m\u001b[0;36m111\u001b[0m\u001b[0;34m,\u001b[0m \u001b[0mprojection\u001b[0m\u001b[0;34m=\u001b[0m\u001b[0;34m'3d'\u001b[0m\u001b[0;34m)\u001b[0m\u001b[0;34m\u001b[0m\u001b[0;34m\u001b[0m\u001b[0m\n\u001b[0;32m----> 3\u001b[0;31m \u001b[0max\u001b[0m\u001b[0;34m.\u001b[0m\u001b[0mscatter\u001b[0m\u001b[0;34m(\u001b[0m\u001b[0;34m*\u001b[0m\u001b[0mpoints\u001b[0m\u001b[0;34m.\u001b[0m\u001b[0mT\u001b[0m\u001b[0;34m)\u001b[0m\u001b[0;34m\u001b[0m\u001b[0;34m\u001b[0m\u001b[0m\n\u001b[0m\u001b[1;32m      4\u001b[0m \u001b[0max\u001b[0m\u001b[0;34m.\u001b[0m\u001b[0mscatter\u001b[0m\u001b[0;34m(\u001b[0m\u001b[0;34m*\u001b[0m\u001b[0mtarget_point\u001b[0m\u001b[0;34m.\u001b[0m\u001b[0mT\u001b[0m\u001b[0;34m,\u001b[0m \u001b[0mc\u001b[0m\u001b[0;34m=\u001b[0m\u001b[0;34m'r'\u001b[0m\u001b[0;34m)\u001b[0m\u001b[0;34m\u001b[0m\u001b[0;34m\u001b[0m\u001b[0m\n\u001b[1;32m      5\u001b[0m \u001b[0max\u001b[0m\u001b[0;34m.\u001b[0m\u001b[0mscatter\u001b[0m\u001b[0;34m(\u001b[0m\u001b[0;34m*\u001b[0m\u001b[0mnode\u001b[0m\u001b[0;34m.\u001b[0m\u001b[0mdata\u001b[0m\u001b[0;34m.\u001b[0m\u001b[0mT\u001b[0m\u001b[0;34m,\u001b[0m \u001b[0mc\u001b[0m\u001b[0;34m=\u001b[0m\u001b[0;34m'k'\u001b[0m\u001b[0;34m)\u001b[0m\u001b[0;34m\u001b[0m\u001b[0;34m\u001b[0m\u001b[0m\n",
      "\u001b[0;31mAttributeError\u001b[0m: 'list' object has no attribute 'T'"
     ]
    },
    {
     "data": {
      "image/png": "[encoded data removed]",
      "text/plain": [
       "<Figure size 432x288 with 1 Axes>"
      ]
     },
     "metadata": {
      "needs_background": "light"
     },
     "output_type": "display_data"
    }
   ],
   "source": [
    "\n",
    "ax.scatter(*points.T)\n",
    "ax.scatter(*target_point.T, c='r')\n",
    "ax.scatter(*node.data.T, c='k')"
   ]
  },
  {
   "cell_type": "code",
   "execution_count": 8,
   "id": "9a2b5ee8-3e6b-4531-91c2-0a893d06c8c5",
   "metadata": {},
   "outputs": [
    {
     "data": {
      "text/plain": [
       "array([0.75803414, 0.25445295, 0.26991363, 0.53645557])"
      ]
     },
     "execution_count": 8,
     "metadata": {},
     "output_type": "execute_result"
    }
   ],
   "source": [
    "SO3._uniform_sampling_quaternion()"
   ]
  },
  {
   "cell_type": "code",
   "execution_count": 126,
   "id": "e9b3faa0-3144-4e65-9581-47e9ea0b0305",
   "metadata": {},
   "outputs": [
    {
     "data": {
      "text/plain": [
       "SO3 Class\n",
       "array([[ 0.27230058,  0.27022226,  0.92348921],\n",
       "       [ 0.46995415,  0.80014758, -0.37270222],\n",
       "       [-0.83964009,  0.53548462,  0.09088858]])"
      ]
     },
     "execution_count": 126,
     "metadata": {},
     "output_type": "execute_result"
    }
   ],
   "source": [
    "s = np.random.random()\n",
    "sigma1, sigma2 = np.sqrt(1-s), np.sqrt(s)\n",
    "theta1, theta2 = np.random.uniform(size=2)\n",
    "s1, c1 = np.sin(theta1), np.cos(theta1)\n",
    "s2, c2 = np.sin(theta2), np.cos(theta2)\n",
    "qtn = np.array([c2*sigma2, s1*sigma1, c1*sigma1, s2*sigma2])\n",
    "SO3(qtn)"
   ]
  },
  {
   "cell_type": "code",
   "execution_count": 123,
   "id": "9c770109-a0e1-4be6-bbeb-95fa17ed80fa",
   "metadata": {},
   "outputs": [
    {
     "data": {
      "text/plain": [
       "SO3 Class\n",
       "array([[ 0.33557597,  0.80642334,  0.48689851],\n",
       "       [ 0.81752576,  0.00748403, -0.5758434 ],\n",
       "       [-0.46801752,  0.59129129, -0.6567604 ]])"
      ]
     },
     "execution_count": 123,
     "metadata": {},
     "output_type": "execute_result"
    }
   ],
   "source": []
  },
  {
   "cell_type": "code",
   "execution_count": 117,
   "id": "ece98115-0fe8-4021-9258-1d4d01aa1749",
   "metadata": {},
   "outputs": [
    {
     "data": {
      "text/plain": [
       "0.07338490027507272"
      ]
     },
     "execution_count": 117,
     "metadata": {},
     "output_type": "execute_result"
    }
   ],
   "source": [
    "sigma1"
   ]
  },
  {
   "cell_type": "code",
   "execution_count": 112,
   "id": "f709c8ec-1d66-479b-a642-09356408190b",
   "metadata": {},
   "outputs": [
    {
     "data": {
      "text/plain": [
       "array([ 0.21685896, -0.25111449, -0.66185578,  0.67220579])"
      ]
     },
     "execution_count": 112,
     "metadata": {},
     "output_type": "execute_result"
    }
   ],
   "source": [
    "SO3.random()._qtn"
   ]
  },
  {
   "cell_type": "code",
   "execution_count": null,
   "id": "3b44a7cf-705f-4702-a332-1e03afd52d6c",
   "metadata": {},
   "outputs": [],
   "source": []
  },
  {
   "cell_type": "code",
   "execution_count": 39,
   "id": "c529f44f-952a-4914-8bbc-77c38043fad8",
   "metadata": {},
   "outputs": [],
   "source": [
    "space = ob.RealVectorStateSpace(3)\n",
    "bounds = ob.RealVectorBounds(3)\n",
    "bounds.setLow(-1)\n",
    "bounds.setHigh(1)\n",
    "space.setBounds(bounds)"
   ]
  },
  {
   "cell_type": "code",
   "execution_count": 40,
   "id": "b5bc1605-e466-4409-b031-b150ef8e6c8d",
   "metadata": {},
   "outputs": [],
   "source": [
    "space.setup()"
   ]
  },
  {
   "cell_type": "code",
   "execution_count": 45,
   "id": "3750f0b1-170e-4140-84ed-c94772477237",
   "metadata": {},
   "outputs": [],
   "source": [
    "proj = space.getDefaultProjection()"
   ]
  },
  {
   "cell_type": "code",
   "execution_count": 30,
   "id": "1964466f-8ecf-431e-b1c6-67b72881e323",
   "metadata": {},
   "outputs": [],
   "source": [
    "a = ob.State(space)\n",
    "a.random()\n",
    "b = ob.State(space)\n",
    "b.random()"
   ]
  },
  {
   "cell_type": "code",
   "execution_count": 31,
   "id": "82b8e1f3-d83d-46cf-96f5-76120cb730b5",
   "metadata": {},
   "outputs": [],
   "source": [
    "va = np.array([a[i] for i in range(3)])\n",
    "vb = np.array([b[i] for i in range(3)])"
   ]
  },
  {
   "cell_type": "code",
   "execution_count": 32,
   "id": "56d6dfab-893e-4abc-83ad-fc91fcb8ec92",
   "metadata": {},
   "outputs": [
    {
     "data": {
      "text/plain": [
       "1.812124707091043"
      ]
     },
     "execution_count": 32,
     "metadata": {},
     "output_type": "execute_result"
    }
   ],
   "source": [
    "np.linalg.norm(va-vb)"
   ]
  },
  {
   "cell_type": "code",
   "execution_count": 37,
   "id": "e0547afd-157f-43e5-a142-b6b0bbc376ac",
   "metadata": {},
   "outputs": [],
   "source": [
    "space = ob.SE3StateSpace()"
   ]
  },
  {
   "cell_type": "code",
   "execution_count": 38,
   "id": "12871f45-7eee-448b-8c02-bc9102c5f417",
   "metadata": {},
   "outputs": [
    {
     "ename": "RuntimeError",
     "evalue": "The longest valid segment for state space RealVectorSpace10 must be positive.\nSpace settings:\nReal vector state space 'RealVectorSpace10' of dimension 3 with bounds: \n  - min: 0 0 0 \n  - max: 0 0 0 \n",
     "output_type": "error",
     "traceback": [
      "\u001b[0;31m---------------------------------------------------------------------------\u001b[0m",
      "\u001b[0;31mRuntimeError\u001b[0m                              Traceback (most recent call last)",
      "\u001b[0;32m/tmp/ipykernel_20923/3415160734.py\u001b[0m in \u001b[0;36m<module>\u001b[0;34m\u001b[0m\n\u001b[0;32m----> 1\u001b[0;31m \u001b[0mspace\u001b[0m\u001b[0;34m.\u001b[0m\u001b[0msetup\u001b[0m\u001b[0;34m(\u001b[0m\u001b[0;34m)\u001b[0m\u001b[0;34m\u001b[0m\u001b[0;34m\u001b[0m\u001b[0m\n\u001b[0m",
      "\u001b[0;31mRuntimeError\u001b[0m: The longest valid segment for state space RealVectorSpace10 must be positive.\nSpace settings:\nReal vector state space 'RealVectorSpace10' of dimension 3 with bounds: \n  - min: 0 0 0 \n  - max: 0 0 0 \n"
     ]
    }
   ],
   "source": [
    "space.setup()"
   ]
  },
  {
   "cell_type": "code",
   "execution_count": 35,
   "id": "0620dd77-eeab-4513-87fe-83ff268c120c",
   "metadata": {},
   "outputs": [
    {
     "name": "stderr",
     "output_type": "stream",
     "text": [
      "Error:   No default projection is set. Perhaps setup() needs to be called\n",
      "         at line 729 in /home/kh11kim/git/ompl/ompl-1.5.2/src/ompl/base/src/StateSpace.cpp\n"
     ]
    }
   ],
   "source": [
    "space.getDefaultProjection()"
   ]
  },
  {
   "cell_type": "code",
   "execution_count": 3,
   "id": "9561b942-f6dd-4ef1-a2ce-9413883b86d4",
   "metadata": {},
   "outputs": [],
   "source": [
    "space = ob.SE3StateSpace()\n",
    "bounds = ob.RealVectorBounds(3)\n",
    "ll = [-1, -1, 0]\n",
    "ul = [1, 1, 1]\n",
    "for i, (lower, upper) in enumerate(zip(ll, ul)):\n",
    "    bounds.setLow(i, lower)\n",
    "    bounds.setHigh(i, upper)\n",
    "\n",
    "space.setBounds(bounds)"
   ]
  },
  {
   "cell_type": "code",
   "execution_count": 12,
   "id": "c56254fc-ab5b-43e2-abfa-2966f7861999",
   "metadata": {},
   "outputs": [
    {
     "data": {
      "text/plain": [
       "39.47841760435743"
      ]
     },
     "execution_count": 12,
     "metadata": {},
     "output_type": "execute_result"
    }
   ],
   "source": [
    "space.getMeasure()"
   ]
  },
  {
   "cell_type": "code",
   "execution_count": 4,
   "id": "2f6274c7-de0f-4ac8-b70b-04b613c8aff9",
   "metadata": {},
   "outputs": [
    {
     "name": "stdout",
     "output_type": "stream",
     "text": [
      "Settings for the state space 'SE3CompoundSpace0'\n",
      "  - state validity check resolution: 1%\n",
      "  - valid segment count factor: 1\n",
      "  - state space:\n",
      "Compound state space 'SE3CompoundSpace0' of dimension 6 (locked) [\n",
      "Real vector state space 'RealVectorSpace1' of dimension 3 with bounds: \n",
      "  - min: -1 -1 0 \n",
      "  - max: 1 1 1 \n",
      " of weight 1\n",
      "SO(3) state space 'SO3Space2' (represented using quaternions)\n",
      " of weight 1\n",
      "]\n",
      "No registered projections\n",
      "\n",
      "Declared parameters:\n",
      "longest_valid_segment_fraction = 0.01\n",
      "valid_segment_count_factor = 1\n",
      "Valid state sampler named uniform with parameters:\n",
      "nr_attempts = 100\n",
      "\n"
     ]
    }
   ],
   "source": [
    "# Make space information\n",
    "def isStateValid(state):\n",
    "    if state[2] < 0:\n",
    "        return False\n",
    "    if state[0]**2 + state[1]**2 >= 10:\n",
    "        return False\n",
    "    return True\n",
    "si = ob.SpaceInformation(space)\n",
    "si.setStateValidityChecker(ob.StateValidityCheckerFn(isStateValid))\n",
    "#si.setStateValidityCheckingResolution(np.pi/180)\n",
    "print(si.settings())"
   ]
  },
  {
   "cell_type": "code",
   "execution_count": 5,
   "id": "61f058ce-c8ba-4c63-97f0-4ccda09753d5",
   "metadata": {},
   "outputs": [],
   "source": [
    "# Make problem definition\n",
    "start = ob.State(space)\n",
    "start.random()\n",
    "goal = ob.State(space)\n",
    "goal.random()\n",
    "pdef = ob.ProblemDefinition(si)\n",
    "pdef.setStartAndGoalStates(start, goal)"
   ]
  },
  {
   "cell_type": "code",
   "execution_count": 6,
   "id": "6ab7221f-ab0b-49ce-ba5c-ce7c1f7825a7",
   "metadata": {},
   "outputs": [
    {
     "name": "stdout",
     "output_type": "stream",
     "text": [
      "startThreads creating 1 threads.\n",
      "starting thread 0\n",
      "started thread 0 \n",
      "argc=2\n",
      "argv[0] = --unused\n",
      "argv[1] = --start_demo_name=Physics Server\n",
      "ExampleBrowserThreadFunc started\n",
      "X11 functions dynamically loaded using dlopen/dlsym OK!\n",
      "X11 functions dynamically loaded using dlopen/dlsym OK!\n",
      "Creating context\n",
      "Created GL 3.3 context\n",
      "Direct GLX rendering context obtained\n",
      "Making context current\n",
      "GL_VENDOR=NVIDIA Corporation\n",
      "GL_RENDERER=NVIDIA GeForce GTX 1660 SUPER/PCIe/SSE2\n",
      "GL_VERSION=3.3.0 NVIDIA 470.86\n",
      "GL_SHADING_LANGUAGE_VERSION=3.30 NVIDIA via Cg compiler\n",
      "pthread_getconcurrency()=0\n",
      "Version = 3.3.0 NVIDIA 470.86\n",
      "Vendor = NVIDIA Corporation\n",
      "Renderer = NVIDIA GeForce GTX 1660 SUPER/PCIe/SSE2\n",
      "b3Printf: Selected demo: Physics Server\n",
      "startThreads creating 1 threads.\n",
      "starting thread 0\n",
      "started thread 0 \n",
      "MotionThreadFunc thread started\n",
      "ven = NVIDIA Corporation\n",
      "ven = NVIDIA Corporation\n",
      "Info:    RRTConnect: Space information setup was not yet called. Calling now.\n",
      "Debug:   RRTConnect: Planner range detected to be 0.914159\n"
     ]
    }
   ],
   "source": [
    "# planner\n",
    "planner = og.RRTConnect(si)\n",
    "planner.setProblemDefinition(pdef)\n",
    "planner.setup()"
   ]
  },
  {
   "cell_type": "code",
   "execution_count": null,
   "id": "63a9f8c8-a3fb-4dd6-8662-0d7cb2bd8910",
   "metadata": {},
   "outputs": [],
   "source": [
    "solved = planner.solve(1.0)"
   ]
  },
  {
   "cell_type": "code",
   "execution_count": null,
   "id": "0ea55caf-7e15-4530-8733-27b5093558bb",
   "metadata": {},
   "outputs": [],
   "source": [
    "solved = planner.solve(1.0)\n",
    "path = pdef.getSolutionPath()\n",
    "print(path)"
   ]
  },
  {
   "cell_type": "code",
   "execution_count": null,
   "id": "26c6789f-f1bb-47a0-b0cf-7cf4d8c656d1",
   "metadata": {},
   "outputs": [],
   "source": []
  },
  {
   "cell_type": "code",
   "execution_count": null,
   "id": "65e5c21f-1b65-43ce-8d43-3efd9c4ebe47",
   "metadata": {},
   "outputs": [],
   "source": []
  },
  {
   "cell_type": "code",
   "execution_count": null,
   "id": "1c3dba12-bdfa-452e-9f2a-94a8ee1efedb",
   "metadata": {},
   "outputs": [],
   "source": []
  },
  {
   "cell_type": "code",
   "execution_count": 36,
   "id": "51ecdc66-bbba-4619-9f80-112ca407d451",
   "metadata": {},
   "outputs": [
    {
     "ename": "IndexError",
     "evalue": "list index out of range",
     "output_type": "error",
     "traceback": [
      "\u001b[0;31m---------------------------------------------------------------------------\u001b[0m",
      "\u001b[0;31mIndexError\u001b[0m                                Traceback (most recent call last)",
      "\u001b[0;32m/tmp/ipykernel_20923/2575573124.py\u001b[0m in \u001b[0;36m<module>\u001b[0;34m\u001b[0m\n\u001b[1;32m      3\u001b[0m \u001b[0mbounds\u001b[0m \u001b[0;34m=\u001b[0m \u001b[0mob\u001b[0m\u001b[0;34m.\u001b[0m\u001b[0mRealVectorBounds\u001b[0m\u001b[0;34m(\u001b[0m\u001b[0;36m7\u001b[0m\u001b[0;34m)\u001b[0m\u001b[0;34m\u001b[0m\u001b[0;34m\u001b[0m\u001b[0m\n\u001b[1;32m      4\u001b[0m \u001b[0;32mfor\u001b[0m \u001b[0mi\u001b[0m \u001b[0;32min\u001b[0m \u001b[0mrange\u001b[0m\u001b[0;34m(\u001b[0m\u001b[0;36m7\u001b[0m\u001b[0;34m)\u001b[0m\u001b[0;34m:\u001b[0m\u001b[0;34m\u001b[0m\u001b[0;34m\u001b[0m\u001b[0m\n\u001b[0;32m----> 5\u001b[0;31m     \u001b[0mbounds\u001b[0m\u001b[0;34m.\u001b[0m\u001b[0msetLow\u001b[0m\u001b[0;34m(\u001b[0m\u001b[0mi\u001b[0m\u001b[0;34m,\u001b[0m \u001b[0mll\u001b[0m\u001b[0;34m[\u001b[0m\u001b[0mi\u001b[0m\u001b[0;34m]\u001b[0m\u001b[0;34m)\u001b[0m\u001b[0;34m\u001b[0m\u001b[0;34m\u001b[0m\u001b[0m\n\u001b[0m\u001b[1;32m      6\u001b[0m     \u001b[0mbounds\u001b[0m\u001b[0;34m.\u001b[0m\u001b[0msetHigh\u001b[0m\u001b[0;34m(\u001b[0m\u001b[0mi\u001b[0m\u001b[0;34m,\u001b[0m \u001b[0mul\u001b[0m\u001b[0;34m[\u001b[0m\u001b[0mi\u001b[0m\u001b[0;34m]\u001b[0m\u001b[0;34m)\u001b[0m\u001b[0;34m\u001b[0m\u001b[0;34m\u001b[0m\u001b[0m\n\u001b[1;32m      7\u001b[0m \u001b[0mspace\u001b[0m\u001b[0;34m.\u001b[0m\u001b[0msetBounds\u001b[0m\u001b[0;34m(\u001b[0m\u001b[0mbounds\u001b[0m\u001b[0;34m)\u001b[0m\u001b[0;34m\u001b[0m\u001b[0;34m\u001b[0m\u001b[0m\n",
      "\u001b[0;31mIndexError\u001b[0m: list index out of range"
     ]
    }
   ],
   "source": [
    "# Make space\n",
    "space = ob.RealVectorStateSpace(7)\n",
    "bounds = ob.RealVectorBounds(7)\n",
    "for i in range(7):\n",
    "    bounds.setLow(i, ll[i])\n",
    "    bounds.setHigh(i, ul[i])\n",
    "space.setBounds(bounds)\n",
    "\n",
    "# Make space information\n",
    "def isStateValid(state):\n",
    "    global ll, ul\n",
    "    for i in range(7):\n",
    "        if not ll[i] < state[i] < ul[i]:\n",
    "            return False\n",
    "    return True\n",
    "si = ob.SpaceInformation(space)\n",
    "si.setStateValidityChecker(ob.StateValidityCheckerFn(isStateValid))\n",
    "si.setStateValidityCheckingResolution(np.pi/180)\n",
    "print(si.settings())\n",
    "\n",
    "# Make problem definition\n",
    "start = ob.State(space)\n",
    "start.random()\n",
    "goal = ob.State(space)\n",
    "goal.random()\n",
    "pdef = ob.ProblemDefinition(si)\n",
    "pdef.setStartAndGoalStates(start, goal)\n",
    "\n",
    "# planner\n",
    "planner = og.RRTstar(si)\n",
    "planner.setProblemDefinition(pdef)\n",
    "planner.setup()\n"
   ]
  },
  {
   "cell_type": "code",
   "execution_count": 158,
   "id": "edb75e0c-a234-4304-af68-16df83f35ec6",
   "metadata": {},
   "outputs": [],
   "source": [
    "path.interpolate(100)\n",
    "path_states = path.getStates()"
   ]
  },
  {
   "cell_type": "code",
   "execution_count": 159,
   "id": "637aabb6-f4a4-4cef-b1a2-190417e6e0f1",
   "metadata": {},
   "outputs": [],
   "source": [
    "path_list = [np.array([state[i] for i in range(7)]) for state in path_states]"
   ]
  },
  {
   "cell_type": "code",
   "execution_count": 37,
   "id": "75a05b66-f301-4b69-9024-96407a732427",
   "metadata": {},
   "outputs": [],
   "source": [
    "p.setRealTimeSimulation(True)"
   ]
  },
  {
   "cell_type": "code",
   "execution_count": 160,
   "id": "c4dca6ea-fc97-4819-a06d-c0709fe9b8de",
   "metadata": {},
   "outputs": [],
   "source": [
    "panda.control_joint_positions(path_list[0])"
   ]
  },
  {
   "cell_type": "code",
   "execution_count": 49,
   "id": "a2363308-7ceb-47ba-8cde-39f542fafadc",
   "metadata": {},
   "outputs": [],
   "source": [
    "i =0"
   ]
  },
  {
   "cell_type": "code",
   "execution_count": 253,
   "id": "5451fb18-48a3-4d1b-9897-7480631f3d4b",
   "metadata": {},
   "outputs": [
    {
     "name": "stdout",
     "output_type": "stream",
     "text": [
      "99\n"
     ]
    }
   ],
   "source": [
    "i += 1\n",
    "print(i)\n",
    "panda.control_joint_positions(path_list[i])"
   ]
  },
  {
   "cell_type": "code",
   "execution_count": 12,
   "id": "d9ef2578-498f-42f2-ad92-a9d935375f53",
   "metadata": {},
   "outputs": [],
   "source": [
    "state = path_states[0]"
   ]
  },
  {
   "cell_type": "code",
   "execution_count": 16,
   "id": "720ede8c-d34a-421f-ade8-1d6b00ab3a80",
   "metadata": {},
   "outputs": [
    {
     "data": {
      "text/plain": [
       "array([ 2.02208116,  0.90551273, -0.71349284, -0.62837597,  2.47557207,\n",
       "        3.74064173,  0.69544579])"
      ]
     },
     "execution_count": 16,
     "metadata": {},
     "output_type": "execute_result"
    }
   ],
   "source": []
  },
  {
   "cell_type": "code",
   "execution_count": 3,
   "id": "6e4bb91c-fcc2-47ce-a8fd-fa6408a0f5fc",
   "metadata": {},
   "outputs": [],
   "source": [
    "import numpy as np"
   ]
  },
  {
   "cell_type": "code",
   "execution_count": null,
   "id": "ddfe9503-dbbc-437f-a26b-770a3cb295c7",
   "metadata": {},
   "outputs": [],
   "source": [
    "path_values = []\n",
    "for state in path.getStates():\n",
    "    values = []\n",
    "    for joint_value in state:\n",
    "        values.append(joint_value)\n",
    "    path_values.append(values)"
   ]
  },
  {
   "cell_type": "code",
   "execution_count": null,
   "id": "d39fab38-73ff-4573-99a1-47770fc64b1f",
   "metadata": {},
   "outputs": [],
   "source": [
    "path_values"
   ]
  },
  {
   "cell_type": "code",
   "execution_count": 53,
   "id": "c49a5657-09e6-4535-a52c-b8eafed8807d",
   "metadata": {},
   "outputs": [],
   "source": [
    "state = path.getStates()[0]"
   ]
  },
  {
   "cell_type": "code",
   "execution_count": 48,
   "id": "c8ee26c9-3134-4812-8fab-aa1fa62605fe",
   "metadata": {},
   "outputs": [
    {
     "data": {
      "text/plain": [
       "[<ompl.base._base.RealVectorStateInternal at 0x7fb9a5c2a640>,\n",
       " <ompl.base._base.RealVectorStateInternal at 0x7fb9a5c2a280>,\n",
       " <ompl.base._base.RealVectorStateInternal at 0x7fb9a5c2a760>,\n",
       " <ompl.base._base.RealVectorStateInternal at 0x7fb9a5c2a7c0>,\n",
       " <ompl.base._base.RealVectorStateInternal at 0x7fb9a5c2a880>]"
      ]
     },
     "execution_count": 48,
     "metadata": {},
     "output_type": "execute_result"
    }
   ],
   "source": [
    "[*path.getStates()]"
   ]
  },
  {
   "cell_type": "code",
   "execution_count": 43,
   "id": "2785d5c3-5b2e-46d6-8426-fd12a5ca7638",
   "metadata": {},
   "outputs": [
    {
     "data": {
      "text/plain": [
       "0.5020389055226246"
      ]
     },
     "execution_count": 43,
     "metadata": {},
     "output_type": "execute_result"
    }
   ],
   "source": [
    "path_arrays [path.getStates()[]]"
   ]
  },
  {
   "cell_type": "code",
   "execution_count": null,
   "id": "39a96eac-0f26-4bd4-aeee-c0ac1b97b5f5",
   "metadata": {},
   "outputs": [],
   "source": [
    "panda.set_joint_positions()"
   ]
  },
  {
   "cell_type": "code",
   "execution_count": 5,
   "id": "48787182-cb17-46e1-8bdd-9674837f7b24",
   "metadata": {},
   "outputs": [],
   "source": [
    "global ll, ul\n",
    "ji = panda._joint_info\n",
    "ll = [ji[joint]['joint_lower_limit'] for joint in ji][:7]\n",
    "ul = [ji[joint]['joint_upper_limit'] for joint in ji][:7]\n",
    "class PandaVaildStateSampler(ob.ValidStateSampler):\n",
    "    def __init__(self, si):\n",
    "        \"\"\" si is \"space information\"\n",
    "        \"\"\"\n",
    "        global ll, ul\n",
    "        super().__init__(si)\n",
    "        self._name = \"panda c-space sampler\"\n",
    "        self._rng = ou.RNG()\n",
    "        self._ll = ll\n",
    "        self._ul = ul\n",
    "            \n",
    "    def sample(self, state):\n",
    "        for i in range(7):\n",
    "            state[i] = self._rng.uniformReal(self._ll[i], self._ul[i])\n",
    "        return True\n",
    "        "
   ]
  },
  {
   "cell_type": "code",
   "execution_count": 257,
   "id": "bb8d4620-e4bf-4291-9ec6-d0acf060b755",
   "metadata": {},
   "outputs": [],
   "source": [
    "cartesian_space = ob.RealVectorStateSpace(3)"
   ]
  },
  {
   "cell_type": "code",
   "execution_count": 258,
   "id": "4b747f6a-4587-43c1-be35-7ac054e36ec1",
   "metadata": {},
   "outputs": [],
   "source": [
    "SE3space = ob.SE3StateSpace()"
   ]
  },
  {
   "cell_type": "code",
   "execution_count": null,
   "id": "fe12293e-cfb3-4627-9e6f-32cad3a069a8",
   "metadata": {},
   "outputs": [],
   "source": [
    "bounds = ob."
   ]
  },
  {
   "cell_type": "code",
   "execution_count": 151,
   "id": "dcd6d0a8-8567-4170-aacd-0ed10c61ee52",
   "metadata": {},
   "outputs": [
    {
     "name": "stdout",
     "output_type": "stream",
     "text": [
      "Settings for the state space 'RealVectorSpace4'\n",
      "  - state validity check resolution: 1.74533%\n",
      "  - valid segment count factor: 1\n",
      "  - state space:\n",
      "Real vector state space 'RealVectorSpace4' of dimension 7 with bounds: \n",
      "  - min: -2.9671 -1.8326 -2.9671 -3.1416 -2.9671 -0.0873 -2.9671 \n",
      "  - max: 2.9671 1.8326 2.9671 0 2.9671 3.8223 2.9671 \n",
      "\n",
      "Declared parameters:\n",
      "longest_valid_segment_fraction = 0.0174533\n",
      "valid_segment_count_factor = 1\n",
      "Valid state sampler named uniform with parameters:\n",
      "nr_attempts = 100\n",
      "\n",
      "Info:    RRTstar: Space information setup was not yet called. Calling now.\n",
      "Debug:   RRTstar: Planner range detected to be 2.679158\n",
      "Info:    RRTstar: No optimization objective specified. Defaulting to optimizing path length for the allowed planning time.\n"
     ]
    }
   ],
   "source": [
    "# Make space\n",
    "space = ob.RealVectorStateSpace(7)\n",
    "bounds = ob.RealVectorBounds(7)\n",
    "for i in range(7):\n",
    "    bounds.setLow(i, ll[i])\n",
    "    bounds.setHigh(i, ul[i])\n",
    "space.setBounds(bounds)\n",
    "\n",
    "# Make space information\n",
    "def isStateValid(state):\n",
    "    global ll, ul\n",
    "    for i in range(7):\n",
    "        if not ll[i] < state[i] < ul[i]:\n",
    "            return False\n",
    "    return True\n",
    "si = ob.SpaceInformation(space)\n",
    "si.setStateValidityChecker(ob.StateValidityCheckerFn(isStateValid))\n",
    "si.setStateValidityCheckingResolution(np.pi/180)\n",
    "print(si.settings())\n",
    "\n",
    "# Make problem definition\n",
    "start = ob.State(space)\n",
    "start.random()\n",
    "goal = ob.State(space)\n",
    "goal.random()\n",
    "pdef = ob.ProblemDefinition(si)\n",
    "pdef.setStartAndGoalStates(start, goal)\n",
    "\n",
    "# planner\n",
    "planner = og.RRTstar(si)\n",
    "planner.setProblemDefinition(pdef)\n",
    "planner.setup()\n"
   ]
  },
  {
   "cell_type": "code",
   "execution_count": 156,
   "id": "9c033ace-e3cb-4274-acad-a5b6d9d9a537",
   "metadata": {},
   "outputs": [
    {
     "name": "stdout",
     "output_type": "stream",
     "text": [
      "Info:    RRTstar: Started planning with 6633 states. Seeking a solution better than 0.00000.\n",
      "Info:    RRTstar: Starting planning with existing solution of cost 3.65053\n",
      "Info:    RRTstar: Initial k-nearest value of 7699\n",
      "Info:    RRTstar: Created 1389 new states. Checked 10163470 rewire options. 1 goal states in tree. Final solution cost 3.651\n"
     ]
    }
   ],
   "source": [
    "solved = planner.solve(5.0)"
   ]
  },
  {
   "cell_type": "code",
   "execution_count": 157,
   "id": "416d2430-c2a3-4de3-8f0f-7cd8b24be449",
   "metadata": {},
   "outputs": [
    {
     "name": "stdout",
     "output_type": "stream",
     "text": [
      "Geometric path with 3 states\n",
      "RealVectorState [2.73791 1.65043 1.08858 -0.378672 -1.74147 0.262321 0.695301]\n",
      "RealVectorState [1.3066 1.0996 0.99844 -2.13059 -2.12535 0.914729 1.7795]\n",
      "RealVectorState [0.787655 0.89989 0.965757 -2.76577 -2.26454 1.15127 2.1726]\n",
      "\n",
      "\n"
     ]
    }
   ],
   "source": [
    "solved = planner.solve(5.0)\n",
    "path = pdef.getSolutionPath()\n",
    "print(path)"
   ]
  },
  {
   "cell_type": "code",
   "execution_count": 31,
   "id": "dd4463e7-7eb6-40ce-a398-10d96b62cb58",
   "metadata": {},
   "outputs": [
    {
     "name": "stdout",
     "output_type": "stream",
     "text": [
      "Start states:\n",
      "RealVectorState [0.502039 0.883618 0.111358 -1.381 -2.73152 0.800883 -1.6203]\n",
      "Goal state, threshold = 2.22045e-16, memory address = 0x25fd390, state = \n",
      "RealVectorState [0.47929 -1.15783 -0.507528 -2.77604 2.41922 0.80921 -1.48581]\n",
      "OptimizationObjective = nullptr\n",
      "There are 0 solutions\n",
      "\n"
     ]
    }
   ],
   "source": [
    "print(pdef)"
   ]
  },
  {
   "cell_type": "code",
   "execution_count": 29,
   "id": "b5c2d713-f8c3-400d-9e65-f0e82799a61d",
   "metadata": {},
   "outputs": [
    {
     "data": {
      "text/plain": [
       "True"
      ]
     },
     "execution_count": 29,
     "metadata": {},
     "output_type": "execute_result"
    }
   ],
   "source": []
  },
  {
   "cell_type": "code",
   "execution_count": null,
   "id": "1f18a12f-3662-496e-a95f-886a0589e2b7",
   "metadata": {},
   "outputs": [],
   "source": [
    "#space\n",
    "#bound\n",
    "#space information(si)\n",
    "#si.stateValidityChecker\n",
    "\n",
    "#pdef = problemDefinition(si)\n",
    "#pdef.setStartAndGoalStates\n",
    "\n",
    "#planner = og.RRTConnect(si)"
   ]
  },
  {
   "cell_type": "code",
   "execution_count": 25,
   "id": "cdc3978c-e042-48ed-84d4-f4c433fc07ac",
   "metadata": {},
   "outputs": [],
   "source": [
    "smpl = ob.RealVectorStateSampler(space)"
   ]
  },
  {
   "cell_type": "code",
   "execution_count": 24,
   "id": "e9a7c643-e245-4e39-9eca-0eb04c33060b",
   "metadata": {},
   "outputs": [
    {
     "ename": "ArgumentError",
     "evalue": "Python argument types in\n    RealVectorStateSampler.sampleUniform(RealVectorStateSampler, State)\ndid not match C++ signature:\n    sampleUniform(RealVectorStateSampler_wrapper {lvalue}, ompl::base::State* state)\n    sampleUniform(ompl::base::RealVectorStateSampler {lvalue}, ompl::base::State* state)",
     "output_type": "error",
     "traceback": [
      "\u001b[0;31m---------------------------------------------------------------------------\u001b[0m",
      "\u001b[0;31mArgumentError\u001b[0m                             Traceback (most recent call last)",
      "\u001b[0;32m/tmp/ipykernel_4222/3691590483.py\u001b[0m in \u001b[0;36m<module>\u001b[0;34m\u001b[0m\n\u001b[1;32m      1\u001b[0m \u001b[0mstate\u001b[0m \u001b[0;34m=\u001b[0m \u001b[0mob\u001b[0m\u001b[0;34m.\u001b[0m\u001b[0mState\u001b[0m\u001b[0;34m(\u001b[0m\u001b[0mspace\u001b[0m\u001b[0;34m)\u001b[0m\u001b[0;34m\u001b[0m\u001b[0;34m\u001b[0m\u001b[0m\n\u001b[0;32m----> 2\u001b[0;31m \u001b[0msmpl\u001b[0m\u001b[0;34m.\u001b[0m\u001b[0msampleUniform\u001b[0m\u001b[0;34m(\u001b[0m\u001b[0mstate\u001b[0m\u001b[0;34m)\u001b[0m\u001b[0;34m\u001b[0m\u001b[0;34m\u001b[0m\u001b[0m\n\u001b[0m",
      "\u001b[0;31mArgumentError\u001b[0m: Python argument types in\n    RealVectorStateSampler.sampleUniform(RealVectorStateSampler, State)\ndid not match C++ signature:\n    sampleUniform(RealVectorStateSampler_wrapper {lvalue}, ompl::base::State* state)\n    sampleUniform(ompl::base::RealVectorStateSampler {lvalue}, ompl::base::State* state)"
     ]
    }
   ],
   "source": [
    "state = ob.State(space)\n",
    "smpl.sampleUniform(state)"
   ]
  },
  {
   "cell_type": "code",
   "execution_count": 11,
   "id": "19c50af9-dacc-48c9-9010-5598315f2f9f",
   "metadata": {},
   "outputs": [],
   "source": [
    "space = ob.RealVectorStateSpace(7)\n",
    "bounds = ob.RealVectorBounds(7)\n",
    "for i in range(7):\n",
    "    bounds.setLow(i, ll[i])\n",
    "    bounds.setHigh(i, ul[i])\n",
    "space.setBounds(bounds)"
   ]
  },
  {
   "cell_type": "code",
   "execution_count": 12,
   "id": "ec868f95-75a1-4dee-9611-bc032b06493f",
   "metadata": {},
   "outputs": [],
   "source": [
    "start = ob.State(space)"
   ]
  },
  {
   "cell_type": "code",
   "execution_count": 19,
   "id": "19e1fab6-03b8-4449-9fbc-484625db2dfd",
   "metadata": {},
   "outputs": [
    {
     "data": {
      "text/plain": [
       "0.0"
      ]
     },
     "execution_count": 19,
     "metadata": {},
     "output_type": "execute_result"
    }
   ],
   "source": [
    "[start[1]]"
   ]
  },
  {
   "cell_type": "code",
   "execution_count": 7,
   "id": "6b07d8fc-2627-43bd-94bf-4dc8705a8094",
   "metadata": {},
   "outputs": [],
   "source": [
    "bounds.setLow(0, -1)"
   ]
  },
  {
   "cell_type": "code",
   "execution_count": 4,
   "id": "8e1c18ed-816d-4043-a358-ad13a72eb95f",
   "metadata": {},
   "outputs": [],
   "source": [
    "space = ob.RealVectorStateSpace()"
   ]
  },
  {
   "cell_type": "code",
   "execution_count": null,
   "id": "2fd3bf74-e9f4-43ae-ab21-fba2ae0dc464",
   "metadata": {},
   "outputs": [],
   "source": [
    "space.setBounds(ll, ul)"
   ]
  },
  {
   "cell_type": "code",
   "execution_count": null,
   "id": "8c015b30-c3f3-4336-a5c0-e686d5459270",
   "metadata": {},
   "outputs": [],
   "source": []
  },
  {
   "cell_type": "code",
   "execution_count": 51,
   "id": "0f4fc7a7-1225-45ad-a45f-1d77db94d124",
   "metadata": {},
   "outputs": [
    {
     "data": {
      "text/plain": [
       "2.72359540707016"
      ]
     },
     "execution_count": 51,
     "metadata": {},
     "output_type": "execute_result"
    }
   ],
   "source": [
    "sta[]\n",
    "for i in range(7):\n",
    "    rng_.uniformReal(ll[i], ul[i])"
   ]
  },
  {
   "cell_type": "code",
   "execution_count": 30,
   "id": "7eccdc0b-3846-4108-9776-7c290b2206fd",
   "metadata": {},
   "outputs": [
    {
     "data": {
      "text/plain": [
       "([-2.9671,\n",
       "  -1.8326,\n",
       "  -2.9671,\n",
       "  -3.1416,\n",
       "  -2.9671,\n",
       "  -0.0873,\n",
       "  -2.9671,\n",
       "  0.0,\n",
       "  0.0,\n",
       "  0.0,\n",
       "  0.0,\n",
       "  0.0],\n",
       " [2.9671,\n",
       "  1.8326,\n",
       "  2.9671,\n",
       "  0.0,\n",
       "  2.9671,\n",
       "  3.8223,\n",
       "  2.9671,\n",
       "  -1.0,\n",
       "  -1.0,\n",
       "  0.04,\n",
       "  0.04,\n",
       "  -1.0])"
      ]
     },
     "execution_count": 30,
     "metadata": {},
     "output_type": "execute_result"
    }
   ],
   "source": [
    "i = [0]\n",
    "ll, ul"
   ]
  },
  {
   "cell_type": "code",
   "execution_count": 13,
   "id": "8ef1242d-eda7-404a-a410-45216531b1f6",
   "metadata": {},
   "outputs": [],
   "source": [
    "panda.set_joint_positions([0,0,0,0,0,0,0])"
   ]
  },
  {
   "cell_type": "code",
   "execution_count": 2,
   "id": "b3020af8-95ef-4388-bebf-d3c644b9275d",
   "metadata": {},
   "outputs": [],
   "source": [
    "space = ob.SO3StateSpace()"
   ]
  },
  {
   "cell_type": "code",
   "execution_count": 3,
   "id": "4aa04e74-fb50-493e-814f-2492949cdffe",
   "metadata": {},
   "outputs": [],
   "source": [
    "space2 = ob.SE3StateSpace()"
   ]
  },
  {
   "cell_type": "code",
   "execution_count": 5,
   "id": "52d58ab6-8ba2-46ce-a564-207ffbfd2793",
   "metadata": {},
   "outputs": [],
   "source": [
    "rng_ = ou.RNG()"
   ]
  },
  {
   "cell_type": "code",
   "execution_count": 8,
   "id": "6370ff56-e7bf-4a3f-8326-27d129ef75fb",
   "metadata": {},
   "outputs": [
    {
     "data": {
      "text/plain": [
       "0.3510141337083514"
      ]
     },
     "execution_count": 8,
     "metadata": {},
     "output_type": "execute_result"
    }
   ],
   "source": [
    "rng_.gaussian(0,1)"
   ]
  },
  {
   "cell_type": "code",
   "execution_count": null,
   "id": "de836fad-3a58-4b5c-98b4-f7ad90e2e061",
   "metadata": {},
   "outputs": [],
   "source": [
    "space2.setBounds()"
   ]
  },
  {
   "cell_type": "code",
   "execution_count": null,
   "id": "f573a6b0-5be7-4ddf-a43f-527d09e83bd5",
   "metadata": {},
   "outputs": [],
   "source": [
    "space."
   ]
  }
 ],
 "metadata": {
  "kernelspec": {
   "display_name": "Python 3 (ipykernel)",
   "language": "python",
   "name": "python3"
  },
  "language_info": {
   "codemirror_mode": {
    "name": "ipython",
    "version": 3
   },
   "file_extension": ".py",
   "mimetype": "text/x-python",
   "name": "python",
   "nbconvert_exporter": "python",
   "pygments_lexer": "ipython3",
   "version": "3.8.10"
  }
 },
 "nbformat": 4,
 "nbformat_minor": 5
}
